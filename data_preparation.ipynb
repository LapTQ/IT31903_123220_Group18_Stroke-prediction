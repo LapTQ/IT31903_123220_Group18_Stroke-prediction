{
 "cells": [
  {
   "cell_type": "code",
   "source": [
    "import pandas as pd\n",
    "from matplotlib import pyplot\n",
    "from pandas.plotting import scatter_matrix\n",
    "from sklearn.neighbors import LocalOutlierFactor\n",
    "from sklearn.model_selection import train_test_split\n",
    "\n",
    "dataset = pd.read_csv(\"healthcare-dataset-stroke-data.csv\", index_col=\"id\")\n",
    "\n",
    "features = ['gender', 'age', 'hypertension', 'heart_disease', 'ever_married',\n",
    "            'work_type', 'Residence_type', 'avg_glucose_level', 'bmi', 'smoking_status']\n",
    "target = 'stroke'\n",
    "\n",
    "# split into input and output elements\n",
    "X = dataset[features]\n",
    "Y = dataset[target]\n",
    "\n",
    "# split into train and test sets\n",
    "X_train, X_test, y_train, y_test = train_test_split(X, Y, test_size=0.33, random_state=1)\n",
    "\n",
    "print(\"> SIZE OF THE RAW DATASET\", dataset.shape)\n",
    "print(\"> SUMMARY OF THE RAW DATASET\\n\", dataset.describe(include='all'))\n",
    "\n",
    "# pie chart showing\n",
    "fig, ax = pyplot.subplots()\n",
    "ax.pie(dataset[target].value_counts(), labels=[\"Not Stroke\", \"Stroke\"], autopct='%1.1f%%', startangle=90)\n",
    "ax.axis('equal')\n",
    "ax.set_title(\"> CLASS DISTRIBUTION OF RAW DATASET\")\n",
    "pyplot.show()\n",
    "print(dataset[target].value_counts())"
   ],
   "metadata": {
    "collapsed": false,
    "pycharm": {
     "name": "#%%\n"
    }
   },
   "execution_count": 1,
   "outputs": [
    {
     "name": "stdout",
     "output_type": "stream",
     "text": [
      "SIZE OF THE RAW DATASET (5110, 11)\n",
      "SUMMARY OF THE RAW DATASET\n",
      "         gender          age  hypertension  heart_disease ever_married  \\\n",
      "count     5110  5110.000000   5110.000000    5110.000000         5110   \n",
      "unique       3          NaN           NaN            NaN            2   \n",
      "top     Female          NaN           NaN            NaN          Yes   \n",
      "freq      2994          NaN           NaN            NaN         3353   \n",
      "mean       NaN    43.226614      0.097456       0.054012          NaN   \n",
      "std        NaN    22.612647      0.296607       0.226063          NaN   \n",
      "min        NaN     0.080000      0.000000       0.000000          NaN   \n",
      "25%        NaN    25.000000      0.000000       0.000000          NaN   \n",
      "50%        NaN    45.000000      0.000000       0.000000          NaN   \n",
      "75%        NaN    61.000000      0.000000       0.000000          NaN   \n",
      "max        NaN    82.000000      1.000000       1.000000          NaN   \n",
      "\n",
      "       work_type Residence_type  avg_glucose_level          bmi  \\\n",
      "count       5110           5110        5110.000000  4909.000000   \n",
      "unique         5              2                NaN          NaN   \n",
      "top      Private          Urban                NaN          NaN   \n",
      "freq        2925           2596                NaN          NaN   \n",
      "mean         NaN            NaN         106.147677    28.893237   \n",
      "std          NaN            NaN          45.283560     7.854067   \n",
      "min          NaN            NaN          55.120000    10.300000   \n",
      "25%          NaN            NaN          77.245000    23.500000   \n",
      "50%          NaN            NaN          91.885000    28.100000   \n",
      "75%          NaN            NaN         114.090000    33.100000   \n",
      "max          NaN            NaN         271.740000    97.600000   \n",
      "\n",
      "       smoking_status       stroke  \n",
      "count            5110  5110.000000  \n",
      "unique              4          NaN  \n",
      "top      never smoked          NaN  \n",
      "freq             1892          NaN  \n",
      "mean              NaN     0.048728  \n",
      "std               NaN     0.215320  \n",
      "min               NaN     0.000000  \n",
      "25%               NaN     0.000000  \n",
      "50%               NaN     0.000000  \n",
      "75%               NaN     0.000000  \n",
      "max               NaN     1.000000  \n"
     ]
    },
    {
     "data": {
      "text/plain": "<Figure size 432x288 with 1 Axes>",
      "image/png": "[encoded data removed]"
     },
     "metadata": {},
     "output_type": "display_data"
    },
    {
     "name": "stdout",
     "output_type": "stream",
     "text": [
      "0    4861\n",
      "1     249\n",
      "Name: stroke, dtype: int64\n"
     ]
    }
   ]
  },
  {
   "cell_type": "markdown",
   "metadata": {
    "collapsed": true,
    "pycharm": {
     "name": "#%% md\n"
    }
   },
   "source": [
    "# Data Cleaning"
   ]
  },
  {
   "cell_type": "markdown",
   "source": [
    "## Identify Columns That Have Very Few Values"
   ],
   "metadata": {
    "collapsed": false,
    "pycharm": {
     "name": "#%% md\n"
    }
   }
  },
  {
   "cell_type": "code",
   "execution_count": 2,
   "outputs": [],
   "source": [
    "# number of unique values in each column\n",
    "n_uniques = X.nunique()"
   ],
   "metadata": {
    "collapsed": false,
    "pycharm": {
     "name": "#%%\n"
    }
   }
  },
  {
   "cell_type": "code",
   "execution_count": 9,
   "outputs": [
    {
     "name": "stdout",
     "output_type": "stream",
     "text": [
      "> SIZE OF THE RAW DATASET: (5110, 11)\n",
      "FEATURE               N_UNIQUE     PERCENTAGE\n",
      "----------------------------------------------\n",
      "gender                       3            0.1%\n",
      "age                        104            2.0%\n",
      "hypertension                 2            0.0%\n",
      "heart_disease                2            0.0%\n",
      "ever_married                 2            0.0%\n",
      "work_type                    5            0.1%\n",
      "Residence_type               2            0.0%\n",
      "avg_glucose_level         3979           77.9%\n",
      "bmi                        418            8.2%\n",
      "smoking_status               4            0.1%\n"
     ]
    }
   ],
   "source": [
    "# report the column and the number of unique values for each column\n",
    "print(\"> SIZE OF THE RAW DATASET:\", dataset.shape)\n",
    "print(\"{:<20}{:>10}{:>15}\".format(\"FEATURE\", \"N_UNIQUE\", \"PERCENTAGE\"))\n",
    "print(\"----------------------------------------------\")\n",
    "for col in features:\n",
    "    percentage = n_uniques[col] / X.shape[0] * 100\n",
    "    print(\"{:<20}{:>10}{:>15.1f}%\".format(col, n_uniques[col], percentage))"
   ],
   "metadata": {
    "collapsed": false,
    "pycharm": {
     "name": "#%%\n"
    }
   }
  },
  {
   "cell_type": "code",
   "execution_count": 7,
   "outputs": [
    {
     "name": "stdout",
     "output_type": "stream",
     "text": [
      "FEATURE             UNIQUE VALUES\n",
      "----------------------------------------------\n",
      "gender              ['Male' 'Female' 'Other']\n",
      "hypertension        [0 1]\n",
      "heart_disease       [1 0]\n",
      "ever_married        ['Yes' 'No']\n",
      "work_type           ['Private' 'Self-employed' 'Govt_job' 'children' 'Never_worked']\n",
      "Residence_type      ['Urban' 'Rural']\n",
      "smoking_status      ['formerly smoked' 'never smoked' 'smokes' 'Unknown']\n"
     ]
    }
   ],
   "source": [
    "# report the columns that has less than 1% number of unique values and these unique values\n",
    "print(\"{:<20}{}\".format(\"FEATURE\", \"UNIQUE VALUES\"))\n",
    "print(\"----------------------------------------------\")\n",
    "for col in features:\n",
    "    percentage = n_uniques[col]/X.shape[0] * 100\n",
    "    if percentage < 1:\n",
    "        print(\"{:<20}{}\".format(col, X[col].unique()))"
   ],
   "metadata": {
    "collapsed": false,
    "pycharm": {
     "name": "#%%\n"
    }
   }
  },
  {
   "cell_type": "markdown",
   "source": [
    "## Remove Rows That Contain Duplicate Data"
   ],
   "metadata": {
    "collapsed": false,
    "pycharm": {
     "name": "#%% md\n"
    }
   }
  },
  {
   "cell_type": "code",
   "execution_count": 10,
   "outputs": [
    {
     "name": "stdout",
     "output_type": "stream",
     "text": [
      "> SIZE OF THE RAW DATASET: (5110, 11)\n",
      "Duplicate rows? >>> False\n",
      "Empty DataFrame\n",
      "Columns: [gender, age, hypertension, heart_disease, ever_married, work_type, Residence_type, avg_glucose_level, bmi, smoking_status, stroke]\n",
      "Index: []\n",
      "> SIZE AFTER REMOVING DUPLICATE ROWS: (5110, 11)\n"
     ]
    }
   ],
   "source": [
    "print(\"> SIZE OF THE RAW DATASET:\", dataset.shape)\n",
    "# calculate duplicates\n",
    "dups = dataset.duplicated()\n",
    "# report if there are any duplicated\n",
    "print(\"Duplicate rows? >>>\", dups.any())\n",
    "# list all duplicate rows\n",
    "print(dataset[dups])\n",
    "# drop_duplicate rows (if any)\n",
    "dataset.drop_duplicates(inplace=True)\n",
    "print(\"> SIZE AFTER REMOVING DUPLICATE ROWS:\", dataset.shape)"
   ],
   "metadata": {
    "collapsed": false,
    "pycharm": {
     "name": "#%%\n"
    }
   }
  },
  {
   "cell_type": "markdown",
   "source": [
    "## Outliers Detection"
   ],
   "metadata": {
    "collapsed": false,
    "pycharm": {
     "name": "#%% md\n"
    }
   }
  },
  {
   "cell_type": "code",
   "execution_count": 45,
   "outputs": [
    {
     "name": "stdout",
     "output_type": "stream",
     "text": [
      "CATEGORICAL FEATURES DETECTED: ['gender', 'hypertension', 'heart_disease', 'ever_married', 'work_type', 'Residence_type', 'smoking_status']\n",
      "NUMERICAL FEATURES DETECTED  : ['age', 'avg_glucose_level', 'bmi']\n"
     ]
    }
   ],
   "source": [
    "# determine categorical and numerical features by percentage of unique values\n",
    "categorical_ix = []\n",
    "numerical_ix = []\n",
    "for col in X.columns:\n",
    "    percentage = n_uniques[col]/X.shape[0] * 100\n",
    "    if percentage < 1:\n",
    "        categorical_ix.append(col)\n",
    "    else:\n",
    "        numerical_ix.append(col)\n",
    "print(\"CATEGORICAL FEATURES DETECTED:\", categorical_ix)\n",
    "print(\"NUMERICAL FEATURES DETECTED  :\", numerical_ix)"
   ],
   "metadata": {
    "collapsed": false,
    "pycharm": {
     "name": "#%%\n"
    }
   }
  },
  {
   "cell_type": "code",
   "execution_count": 15,
   "outputs": [
    {
     "name": "stdout",
     "output_type": "stream",
     "text": [
      "> HISTOGRAM ON NUMERICAL FEATURES:\n"
     ]
    },
    {
     "data": {
      "text/plain": "<Figure size 720x720 with 4 Axes>",
      "image/png": "[encoded data removed]"
     },
     "metadata": {
      "needs_background": "light"
     },
     "output_type": "display_data"
    },
    {
     "name": "stdout",
     "output_type": "stream",
     "text": [
      "> BOX AND WHISKER PLOT ON NUMERICAL FEATURES:\n"
     ]
    },
    {
     "data": {
      "text/plain": "<Figure size 720x720 with 4 Axes>",
      "image/png": "[encoded data removed]"
     },
     "metadata": {
      "needs_background": "light"
     },
     "output_type": "display_data"
    },
    {
     "data": {
      "text/plain": "               age  avg_glucose_level          bmi\ncount  5110.000000        5110.000000  4909.000000\nmean     43.226614         106.147677    28.893237\nstd      22.612647          45.283560     7.854067\nmin       0.080000          55.120000    10.300000\n25%      25.000000          77.245000    23.500000\n50%      45.000000          91.885000    28.100000\n75%      61.000000         114.090000    33.100000\nmax      82.000000         271.740000    97.600000",
      "text/html": "<div>\n<style scoped>\n    .dataframe tbody tr th:only-of-type {\n        vertical-align: middle;\n    }\n\n    .dataframe tbody tr th {\n        vertical-align: top;\n    }\n\n    .dataframe thead th {\n        text-align: right;\n    }\n</style>\n<table border=\"1\" class=\"dataframe\">\n  <thead>\n    <tr style=\"text-align: right;\">\n      <th></th>\n      <th>age</th>\n      <th>avg_glucose_level</th>\n      <th>bmi</th>\n    </tr>\n  </thead>\n  <tbody>\n    <tr>\n      <th>count</th>\n      <td>5110.000000</td>\n      <td>5110.000000</td>\n      <td>4909.000000</td>\n    </tr>\n    <tr>\n      <th>mean</th>\n      <td>43.226614</td>\n      <td>106.147677</td>\n      <td>28.893237</td>\n    </tr>\n    <tr>\n      <th>std</th>\n      <td>22.612647</td>\n      <td>45.283560</td>\n      <td>7.854067</td>\n    </tr>\n    <tr>\n      <th>min</th>\n      <td>0.080000</td>\n      <td>55.120000</td>\n      <td>10.300000</td>\n    </tr>\n    <tr>\n      <th>25%</th>\n      <td>25.000000</td>\n      <td>77.245000</td>\n      <td>23.500000</td>\n    </tr>\n    <tr>\n      <th>50%</th>\n      <td>45.000000</td>\n      <td>91.885000</td>\n      <td>28.100000</td>\n    </tr>\n    <tr>\n      <th>75%</th>\n      <td>61.000000</td>\n      <td>114.090000</td>\n      <td>33.100000</td>\n    </tr>\n    <tr>\n      <th>max</th>\n      <td>82.000000</td>\n      <td>271.740000</td>\n      <td>97.600000</td>\n    </tr>\n  </tbody>\n</table>\n</div>"
     },
     "execution_count": 15,
     "metadata": {},
     "output_type": "execute_result"
    }
   ],
   "source": [
    "# histogram plot\n",
    "print(\"> HISTOGRAM ON NUMERICAL FEATURES:\")\n",
    "fig = dataset[numerical_ix].hist(xlabelsize=8, ylabelsize=8, figsize=(10, 10))\n",
    "[x.title.set_size(8) for x in fig.ravel()]\n",
    "pyplot.show()\n",
    "\n",
    "# box and whisker plot\n",
    "print(\"> BOX AND WHISKER PLOT ON NUMERICAL FEATURES:\")\n",
    "dataset[numerical_ix].plot(kind='box', subplots=True, layout=(2,2), figsize=(10, 10))\n",
    "pyplot.show()\n",
    "\n",
    "# # scatter plot matrix\n",
    "# scatter_matrix(dataset)\n",
    "# pyplot.show()\n",
    "\n",
    "# summarize\n",
    "dataset[numerical_ix].describe()"
   ],
   "metadata": {
    "collapsed": false,
    "pycharm": {
     "name": "#%%\n"
    }
   }
  },
  {
   "cell_type": "markdown",
   "source": [
    "By looking at the table and by research domain specific knowledge, we infer:\n",
    "\n",
    "* *age* feature has outliers, where min value should be greater than 0.08\n",
    "* *bmi* feature has outliers, where max value should not be far greater than 35"
   ],
   "metadata": {
    "collapsed": false,
    "pycharm": {
     "name": "#%% md\n"
    }
   }
  },
  {
   "cell_type": "markdown",
   "source": [
    "### Option 1: Identify Outlier With Standard Deviation"
   ],
   "metadata": {
    "collapsed": false,
    "pycharm": {
     "name": "#%% md\n"
    }
   }
  },
  {
   "cell_type": "markdown",
   "source": [
    "From histogram, we assume *bmi* have near-Gaussian distribution. So we can apply Standard Deviation method in defining outliers."
   ],
   "metadata": {
    "collapsed": false,
    "pycharm": {
     "name": "#%% md\n"
    }
   }
  },
  {
   "cell_type": "code",
   "source": [
    "bmi_mean, bmi_std = dataset[\"bmi\"].mean(), dataset[\"bmi\"].std()\n",
    "# define outliers outside 3 factor of std from mean\n",
    "cut_off = bmi_std * 3\n",
    "bmi_upper = bmi_mean + cut_off\n",
    "print(\"UPPER BOUND FOR BMI IS NOW:\", bmi_upper)\n",
    "\n",
    "age_lower = 1\n",
    "print(\"LOWER BOUND FOR AGE IS NOW:\", age_lower)\n",
    "\n",
    "# identify non-outlier indexes\n",
    "outlier = (dataset[\"bmi\"] > bmi_upper) | (dataset[\"age\"] < age_lower)\n",
    "outlier_removed = outlier == False\n",
    "\n",
    "print(\"> SIZE OF THE RAW DATASET:\", dataset.shape)\n",
    "print(\"> SIZE IF REMOVE OUTLIERS:\", dataset[outlier_removed].shape)\n",
    "\n",
    "# box and whisker plot\n",
    "dataset[outlier_removed][numerical_ix].plot(kind='box', subplots=True, layout=(2,2), figsize=(10,10))\n",
    "pyplot.show()\n"
   ],
   "metadata": {
    "collapsed": false,
    "pycharm": {
     "name": "#%%\n"
    }
   },
   "execution_count": 46,
   "outputs": [
    {
     "name": "stdout",
     "output_type": "stream",
     "text": [
      "UPPER BOUND FOR BMI IS NOW: 52.455437100835155\n",
      "LOWER BOUND FOR AGE IS NOW: 1\n",
      "> SIZE OF THE RAW DATASET: (5110, 11)\n",
      "> SIZE IF REMOVE OUTLIERS: (5009, 11)\n"
     ]
    },
    {
     "data": {
      "text/plain": "<Figure size 720x720 with 4 Axes>",
      "image/png": "[encoded data removed]"
     },
     "metadata": {
      "needs_background": "light"
     },
     "output_type": "display_data"
    }
   ]
  },
  {
   "cell_type": "markdown",
   "source": [
    "### Option 2: Identify Outlier With Quantile Range"
   ],
   "metadata": {
    "collapsed": false
   }
  },
  {
   "cell_type": "code",
   "execution_count": 41,
   "outputs": [
    {
     "name": "stdout",
     "output_type": "stream",
     "text": [
      "UPPER BOUND FOR BMI IS NOW: 71.5\n",
      "LOWER BOUND FOR AGE IS NOW: 1\n",
      "> SIZE OF THE RAW DATASET: (5110, 11)\n",
      "> SIZE IF REMOVE OUTLIERS: (5063, 11)\n"
     ]
    },
    {
     "data": {
      "text/plain": "age                     AxesSubplot(0.125,0.536818;0.352273x0.343182)\navg_glucose_level    AxesSubplot(0.547727,0.536818;0.352273x0.343182)\nbmi                        AxesSubplot(0.125,0.125;0.352273x0.343182)\ndtype: object"
     },
     "execution_count": 41,
     "metadata": {},
     "output_type": "execute_result"
    },
    {
     "data": {
      "text/plain": "<Figure size 720x720 with 4 Axes>",
      "image/png": "[encoded data removed]"
     },
     "metadata": {
      "needs_background": "light"
     },
     "output_type": "display_data"
    }
   ],
   "source": [
    "q25, q75 = dataset['bmi'].quantile(0.25), dataset['bmi'].quantile(0.75)\n",
    "iqr = q75 - q25\n",
    "cut_off = iqr * 4\n",
    "bmi_upper = q75 + cut_off\n",
    "print(\"UPPER BOUND FOR BMI IS NOW:\", bmi_upper)\n",
    "\n",
    "age_lower = 1\n",
    "print(\"LOWER BOUND FOR AGE IS NOW:\", age_lower)\n",
    "\n",
    "# identify non-outlier indexes\n",
    "outlier = (dataset[\"bmi\"] > bmi_upper) | (dataset[\"age\"] < age_lower)\n",
    "outlier_removed = outlier == False\n",
    "\n",
    "print(\"> SIZE OF THE RAW DATASET:\", dataset.shape)\n",
    "print(\"> SIZE IF REMOVE OUTLIERS:\", dataset[outlier_removed].shape)\n",
    "\n",
    "# box and whisker plot\n",
    "dataset[outlier_removed][numerical_ix].plot(kind='box', subplots=True, layout=(2,2), figsize=(10,10))\n",
    "pyplot.show()"
   ],
   "metadata": {
    "collapsed": false,
    "pycharm": {
     "name": "#%%\n"
    }
   }
  },
  {
   "cell_type": "markdown",
   "source": [
    "### Option 3: Identify Outliers With Local Outlier Factor\n"
   ],
   "metadata": {
    "collapsed": false
   }
  },
  {
   "cell_type": "code",
   "execution_count": 47,
   "outputs": [
    {
     "ename": "ValueError",
     "evalue": "Input contains NaN, infinity or a value too large for dtype('float64').",
     "output_type": "error",
     "traceback": [
      "\u001B[0;31m---------------------------------------------------------------------------\u001B[0m",
      "\u001B[0;31mValueError\u001B[0m                                Traceback (most recent call last)",
      "\u001B[0;32m<ipython-input-47-7c47d6c7dbbe>\u001B[0m in \u001B[0;36m<module>\u001B[0;34m\u001B[0m\n\u001B[1;32m      1\u001B[0m \u001B[0;31m# identify outliers in the training dataset\u001B[0m\u001B[0;34m\u001B[0m\u001B[0;34m\u001B[0m\u001B[0;34m\u001B[0m\u001B[0m\n\u001B[1;32m      2\u001B[0m \u001B[0mlof\u001B[0m \u001B[0;34m=\u001B[0m \u001B[0mLocalOutlierFactor\u001B[0m\u001B[0;34m(\u001B[0m\u001B[0;34m)\u001B[0m\u001B[0;34m\u001B[0m\u001B[0;34m\u001B[0m\u001B[0m\n\u001B[0;32m----> 3\u001B[0;31m \u001B[0myhat\u001B[0m \u001B[0;34m=\u001B[0m \u001B[0mlof\u001B[0m\u001B[0;34m.\u001B[0m\u001B[0mfit_predict\u001B[0m\u001B[0;34m(\u001B[0m\u001B[0mX_train\u001B[0m\u001B[0;34m[\u001B[0m\u001B[0mnumerical_ix\u001B[0m\u001B[0;34m]\u001B[0m\u001B[0;34m)\u001B[0m\u001B[0;34m\u001B[0m\u001B[0;34m\u001B[0m\u001B[0m\n\u001B[0m\u001B[1;32m      4\u001B[0m \u001B[0;31m# select all rows that are not outliers\u001B[0m\u001B[0;34m\u001B[0m\u001B[0;34m\u001B[0m\u001B[0;34m\u001B[0m\u001B[0m\n\u001B[1;32m      5\u001B[0m \u001B[0moutlier_removed\u001B[0m \u001B[0;34m=\u001B[0m \u001B[0myhat\u001B[0m \u001B[0;34m!=\u001B[0m \u001B[0;36m1\u001B[0m\u001B[0;34m\u001B[0m\u001B[0;34m\u001B[0m\u001B[0m\n",
      "\u001B[0;32m~/.local/lib/python3.8/site-packages/sklearn/neighbors/_lof.py\u001B[0m in \u001B[0;36m_fit_predict\u001B[0;34m(self, X, y)\u001B[0m\n\u001B[1;32m    244\u001B[0m         \u001B[0;31m# only available for outlier detection (novelty=False)\u001B[0m\u001B[0;34m\u001B[0m\u001B[0;34m\u001B[0m\u001B[0;34m\u001B[0m\u001B[0m\n\u001B[1;32m    245\u001B[0m \u001B[0;34m\u001B[0m\u001B[0m\n\u001B[0;32m--> 246\u001B[0;31m         \u001B[0;32mreturn\u001B[0m \u001B[0mself\u001B[0m\u001B[0;34m.\u001B[0m\u001B[0mfit\u001B[0m\u001B[0;34m(\u001B[0m\u001B[0mX\u001B[0m\u001B[0;34m)\u001B[0m\u001B[0;34m.\u001B[0m\u001B[0m_predict\u001B[0m\u001B[0;34m(\u001B[0m\u001B[0;34m)\u001B[0m\u001B[0;34m\u001B[0m\u001B[0;34m\u001B[0m\u001B[0m\n\u001B[0m\u001B[1;32m    247\u001B[0m \u001B[0;34m\u001B[0m\u001B[0m\n\u001B[1;32m    248\u001B[0m     \u001B[0;32mdef\u001B[0m \u001B[0mfit\u001B[0m\u001B[0;34m(\u001B[0m\u001B[0mself\u001B[0m\u001B[0;34m,\u001B[0m \u001B[0mX\u001B[0m\u001B[0;34m,\u001B[0m \u001B[0my\u001B[0m\u001B[0;34m=\u001B[0m\u001B[0;32mNone\u001B[0m\u001B[0;34m)\u001B[0m\u001B[0;34m:\u001B[0m\u001B[0;34m\u001B[0m\u001B[0;34m\u001B[0m\u001B[0m\n",
      "\u001B[0;32m~/.local/lib/python3.8/site-packages/sklearn/neighbors/_lof.py\u001B[0m in \u001B[0;36mfit\u001B[0;34m(self, X, y)\u001B[0m\n\u001B[1;32m    263\u001B[0m             \u001B[0mThe\u001B[0m \u001B[0mfitted\u001B[0m \u001B[0mlocal\u001B[0m \u001B[0moutlier\u001B[0m \u001B[0mfactor\u001B[0m \u001B[0mdetector\u001B[0m\u001B[0;34m.\u001B[0m\u001B[0;34m\u001B[0m\u001B[0;34m\u001B[0m\u001B[0m\n\u001B[1;32m    264\u001B[0m         \"\"\"\n\u001B[0;32m--> 265\u001B[0;31m         \u001B[0mself\u001B[0m\u001B[0;34m.\u001B[0m\u001B[0m_fit\u001B[0m\u001B[0;34m(\u001B[0m\u001B[0mX\u001B[0m\u001B[0;34m)\u001B[0m\u001B[0;34m\u001B[0m\u001B[0;34m\u001B[0m\u001B[0m\n\u001B[0m\u001B[1;32m    266\u001B[0m \u001B[0;34m\u001B[0m\u001B[0m\n\u001B[1;32m    267\u001B[0m         \u001B[0;32mif\u001B[0m \u001B[0mself\u001B[0m\u001B[0;34m.\u001B[0m\u001B[0mcontamination\u001B[0m \u001B[0;34m!=\u001B[0m \u001B[0;34m'auto'\u001B[0m\u001B[0;34m:\u001B[0m\u001B[0;34m\u001B[0m\u001B[0;34m\u001B[0m\u001B[0m\n",
      "\u001B[0;32m~/.local/lib/python3.8/site-packages/sklearn/neighbors/_base.py\u001B[0m in \u001B[0;36m_fit\u001B[0;34m(self, X, y)\u001B[0m\n\u001B[1;32m    395\u001B[0m         \u001B[0;32melse\u001B[0m\u001B[0;34m:\u001B[0m\u001B[0;34m\u001B[0m\u001B[0;34m\u001B[0m\u001B[0m\n\u001B[1;32m    396\u001B[0m             \u001B[0;32mif\u001B[0m \u001B[0;32mnot\u001B[0m \u001B[0misinstance\u001B[0m\u001B[0;34m(\u001B[0m\u001B[0mX\u001B[0m\u001B[0;34m,\u001B[0m \u001B[0;34m(\u001B[0m\u001B[0mKDTree\u001B[0m\u001B[0;34m,\u001B[0m \u001B[0mBallTree\u001B[0m\u001B[0;34m,\u001B[0m \u001B[0mNeighborsBase\u001B[0m\u001B[0;34m)\u001B[0m\u001B[0;34m)\u001B[0m\u001B[0;34m:\u001B[0m\u001B[0;34m\u001B[0m\u001B[0;34m\u001B[0m\u001B[0m\n\u001B[0;32m--> 397\u001B[0;31m                 \u001B[0mX\u001B[0m \u001B[0;34m=\u001B[0m \u001B[0mself\u001B[0m\u001B[0;34m.\u001B[0m\u001B[0m_validate_data\u001B[0m\u001B[0;34m(\u001B[0m\u001B[0mX\u001B[0m\u001B[0;34m,\u001B[0m \u001B[0maccept_sparse\u001B[0m\u001B[0;34m=\u001B[0m\u001B[0;34m'csr'\u001B[0m\u001B[0;34m)\u001B[0m\u001B[0;34m\u001B[0m\u001B[0;34m\u001B[0m\u001B[0m\n\u001B[0m\u001B[1;32m    398\u001B[0m \u001B[0;34m\u001B[0m\u001B[0m\n\u001B[1;32m    399\u001B[0m         \u001B[0mself\u001B[0m\u001B[0;34m.\u001B[0m\u001B[0m_check_algorithm_metric\u001B[0m\u001B[0;34m(\u001B[0m\u001B[0;34m)\u001B[0m\u001B[0;34m\u001B[0m\u001B[0;34m\u001B[0m\u001B[0m\n",
      "\u001B[0;32m~/.local/lib/python3.8/site-packages/sklearn/base.py\u001B[0m in \u001B[0;36m_validate_data\u001B[0;34m(self, X, y, reset, validate_separately, **check_params)\u001B[0m\n\u001B[1;32m    419\u001B[0m             \u001B[0mout\u001B[0m \u001B[0;34m=\u001B[0m \u001B[0mX\u001B[0m\u001B[0;34m\u001B[0m\u001B[0;34m\u001B[0m\u001B[0m\n\u001B[1;32m    420\u001B[0m         \u001B[0;32melif\u001B[0m \u001B[0misinstance\u001B[0m\u001B[0;34m(\u001B[0m\u001B[0my\u001B[0m\u001B[0;34m,\u001B[0m \u001B[0mstr\u001B[0m\u001B[0;34m)\u001B[0m \u001B[0;32mand\u001B[0m \u001B[0my\u001B[0m \u001B[0;34m==\u001B[0m \u001B[0;34m'no_validation'\u001B[0m\u001B[0;34m:\u001B[0m\u001B[0;34m\u001B[0m\u001B[0;34m\u001B[0m\u001B[0m\n\u001B[0;32m--> 421\u001B[0;31m             \u001B[0mX\u001B[0m \u001B[0;34m=\u001B[0m \u001B[0mcheck_array\u001B[0m\u001B[0;34m(\u001B[0m\u001B[0mX\u001B[0m\u001B[0;34m,\u001B[0m \u001B[0;34m**\u001B[0m\u001B[0mcheck_params\u001B[0m\u001B[0;34m)\u001B[0m\u001B[0;34m\u001B[0m\u001B[0;34m\u001B[0m\u001B[0m\n\u001B[0m\u001B[1;32m    422\u001B[0m             \u001B[0mout\u001B[0m \u001B[0;34m=\u001B[0m \u001B[0mX\u001B[0m\u001B[0;34m\u001B[0m\u001B[0;34m\u001B[0m\u001B[0m\n\u001B[1;32m    423\u001B[0m         \u001B[0;32melse\u001B[0m\u001B[0;34m:\u001B[0m\u001B[0;34m\u001B[0m\u001B[0;34m\u001B[0m\u001B[0m\n",
      "\u001B[0;32m~/.local/lib/python3.8/site-packages/sklearn/utils/validation.py\u001B[0m in \u001B[0;36minner_f\u001B[0;34m(*args, **kwargs)\u001B[0m\n\u001B[1;32m     61\u001B[0m             \u001B[0mextra_args\u001B[0m \u001B[0;34m=\u001B[0m \u001B[0mlen\u001B[0m\u001B[0;34m(\u001B[0m\u001B[0margs\u001B[0m\u001B[0;34m)\u001B[0m \u001B[0;34m-\u001B[0m \u001B[0mlen\u001B[0m\u001B[0;34m(\u001B[0m\u001B[0mall_args\u001B[0m\u001B[0;34m)\u001B[0m\u001B[0;34m\u001B[0m\u001B[0;34m\u001B[0m\u001B[0m\n\u001B[1;32m     62\u001B[0m             \u001B[0;32mif\u001B[0m \u001B[0mextra_args\u001B[0m \u001B[0;34m<=\u001B[0m \u001B[0;36m0\u001B[0m\u001B[0;34m:\u001B[0m\u001B[0;34m\u001B[0m\u001B[0;34m\u001B[0m\u001B[0m\n\u001B[0;32m---> 63\u001B[0;31m                 \u001B[0;32mreturn\u001B[0m \u001B[0mf\u001B[0m\u001B[0;34m(\u001B[0m\u001B[0;34m*\u001B[0m\u001B[0margs\u001B[0m\u001B[0;34m,\u001B[0m \u001B[0;34m**\u001B[0m\u001B[0mkwargs\u001B[0m\u001B[0;34m)\u001B[0m\u001B[0;34m\u001B[0m\u001B[0;34m\u001B[0m\u001B[0m\n\u001B[0m\u001B[1;32m     64\u001B[0m \u001B[0;34m\u001B[0m\u001B[0m\n\u001B[1;32m     65\u001B[0m             \u001B[0;31m# extra_args > 0\u001B[0m\u001B[0;34m\u001B[0m\u001B[0;34m\u001B[0m\u001B[0;34m\u001B[0m\u001B[0m\n",
      "\u001B[0;32m~/.local/lib/python3.8/site-packages/sklearn/utils/validation.py\u001B[0m in \u001B[0;36mcheck_array\u001B[0;34m(array, accept_sparse, accept_large_sparse, dtype, order, copy, force_all_finite, ensure_2d, allow_nd, ensure_min_samples, ensure_min_features, estimator)\u001B[0m\n\u001B[1;32m    661\u001B[0m \u001B[0;34m\u001B[0m\u001B[0m\n\u001B[1;32m    662\u001B[0m         \u001B[0;32mif\u001B[0m \u001B[0mforce_all_finite\u001B[0m\u001B[0;34m:\u001B[0m\u001B[0;34m\u001B[0m\u001B[0;34m\u001B[0m\u001B[0m\n\u001B[0;32m--> 663\u001B[0;31m             _assert_all_finite(array,\n\u001B[0m\u001B[1;32m    664\u001B[0m                                allow_nan=force_all_finite == 'allow-nan')\n\u001B[1;32m    665\u001B[0m \u001B[0;34m\u001B[0m\u001B[0m\n",
      "\u001B[0;32m~/.local/lib/python3.8/site-packages/sklearn/utils/validation.py\u001B[0m in \u001B[0;36m_assert_all_finite\u001B[0;34m(X, allow_nan, msg_dtype)\u001B[0m\n\u001B[1;32m    101\u001B[0m                 not allow_nan and not np.isfinite(X).all()):\n\u001B[1;32m    102\u001B[0m             \u001B[0mtype_err\u001B[0m \u001B[0;34m=\u001B[0m \u001B[0;34m'infinity'\u001B[0m \u001B[0;32mif\u001B[0m \u001B[0mallow_nan\u001B[0m \u001B[0;32melse\u001B[0m \u001B[0;34m'NaN, infinity'\u001B[0m\u001B[0;34m\u001B[0m\u001B[0;34m\u001B[0m\u001B[0m\n\u001B[0;32m--> 103\u001B[0;31m             raise ValueError(\n\u001B[0m\u001B[1;32m    104\u001B[0m                     \u001B[0mmsg_err\u001B[0m\u001B[0;34m.\u001B[0m\u001B[0mformat\u001B[0m\u001B[0;34m\u001B[0m\u001B[0;34m\u001B[0m\u001B[0m\n\u001B[1;32m    105\u001B[0m                     (type_err,\n",
      "\u001B[0;31mValueError\u001B[0m: Input contains NaN, infinity or a value too large for dtype('float64')."
     ]
    }
   ],
   "source": [
    "# identify outliers in the training dataset\n",
    "lof = LocalOutlierFactor()\n",
    "yhat = lof.fit_predict(X_train[numerical_ix])\n",
    "# select all rows that are not outliers\n",
    "outlier_removed = yhat != 1\n",
    "X_train, y_train = X_train[outlier_removed], y_train[outlier_removed]\n",
    "print(X_train.head(10))"
   ],
   "metadata": {
    "collapsed": false,
    "pycharm": {
     "name": "#%%\n"
    }
   }
  },
  {
   "cell_type": "code",
   "execution_count": 108,
   "outputs": [
    {
     "name": "stdout",
     "output_type": "stream",
     "text": [
      "11.979999999999999\n",
      "44.620000000000005\n",
      "Empty DataFrame\n",
      "Columns: [age, avg_glucose_level, bmi]\n",
      "Index: []\n"
     ]
    }
   ],
   "source": [],
   "metadata": {
    "collapsed": false,
    "pycharm": {
     "name": "#%%\n"
    }
   }
  }
 ],
 "metadata": {
  "kernelspec": {
   "display_name": "Python 3",
   "language": "python",
   "name": "python3"
  },
  "language_info": {
   "codemirror_mode": {
    "name": "ipython",
    "version": 2
   },
   "file_extension": ".py",
   "mimetype": "text/x-python",
   "name": "python",
   "nbconvert_exporter": "python",
   "pygments_lexer": "ipython2",
   "version": "2.7.6"
  }
 },
 "nbformat": 4,
 "nbformat_minor": 0
}