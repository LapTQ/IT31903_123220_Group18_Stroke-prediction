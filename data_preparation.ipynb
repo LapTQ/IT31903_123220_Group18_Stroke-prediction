{
 "cells": [
  {
   "cell_type": "code",
   "source": [
    "import pandas as pd\n",
    "from matplotlib import pyplot\n",
    "\n",
    "dataset = pd.read_csv(\"healthcare-dataset-stroke-data.csv\", index_col=\"id\")\n",
    "\n",
    "print(\"Size of raw dataset\\n\", dataset.shape)\n",
    "print(\"5 first rows of raw dataset\\n\", dataset.head(5))\n",
    "print(\"Summary of raw dataset\\n\", dataset.describe(include='all'))"
   ],
   "metadata": {
    "collapsed": false,
    "pycharm": {
     "name": "#%%\n"
    }
   },
   "execution_count": 31,
   "outputs": [
    {
     "name": "stdout",
     "output_type": "stream",
     "text": [
      "Size of raw dataset\n",
      " (5110, 11)\n",
      "5 first rows of raw dataset\n",
      "        gender   age  hypertension  heart_disease ever_married      work_type  \\\n",
      "id                                                                             \n",
      "9046     Male  67.0             0              1          Yes        Private   \n",
      "51676  Female  61.0             0              0          Yes  Self-employed   \n",
      "31112    Male  80.0             0              1          Yes        Private   \n",
      "60182  Female  49.0             0              0          Yes        Private   \n",
      "1665   Female  79.0             1              0          Yes  Self-employed   \n",
      "\n",
      "      Residence_type  avg_glucose_level   bmi   smoking_status  stroke  \n",
      "id                                                                      \n",
      "9046           Urban             228.69  36.6  formerly smoked       1  \n",
      "51676          Rural             202.21   NaN     never smoked       1  \n",
      "31112          Rural             105.92  32.5     never smoked       1  \n",
      "60182          Urban             171.23  34.4           smokes       1  \n",
      "1665           Rural             174.12  24.0     never smoked       1  \n",
      "Summary of raw dataset\n",
      "         gender          age  hypertension  heart_disease ever_married  \\\n",
      "count     5110  5110.000000   5110.000000    5110.000000         5110   \n",
      "unique       3          NaN           NaN            NaN            2   \n",
      "top     Female          NaN           NaN            NaN          Yes   \n",
      "freq      2994          NaN           NaN            NaN         3353   \n",
      "mean       NaN    43.226614      0.097456       0.054012          NaN   \n",
      "std        NaN    22.612647      0.296607       0.226063          NaN   \n",
      "min        NaN     0.080000      0.000000       0.000000          NaN   \n",
      "25%        NaN    25.000000      0.000000       0.000000          NaN   \n",
      "50%        NaN    45.000000      0.000000       0.000000          NaN   \n",
      "75%        NaN    61.000000      0.000000       0.000000          NaN   \n",
      "max        NaN    82.000000      1.000000       1.000000          NaN   \n",
      "\n",
      "       work_type Residence_type  avg_glucose_level          bmi  \\\n",
      "count       5110           5110        5110.000000  4909.000000   \n",
      "unique         5              2                NaN          NaN   \n",
      "top      Private          Urban                NaN          NaN   \n",
      "freq        2925           2596                NaN          NaN   \n",
      "mean         NaN            NaN         106.147677    28.893237   \n",
      "std          NaN            NaN          45.283560     7.854067   \n",
      "min          NaN            NaN          55.120000    10.300000   \n",
      "25%          NaN            NaN          77.245000    23.500000   \n",
      "50%          NaN            NaN          91.885000    28.100000   \n",
      "75%          NaN            NaN         114.090000    33.100000   \n",
      "max          NaN            NaN         271.740000    97.600000   \n",
      "\n",
      "       smoking_status       stroke  \n",
      "count            5110  5110.000000  \n",
      "unique              4          NaN  \n",
      "top      never smoked          NaN  \n",
      "freq             1892          NaN  \n",
      "mean              NaN     0.048728  \n",
      "std               NaN     0.215320  \n",
      "min               NaN     0.000000  \n",
      "25%               NaN     0.000000  \n",
      "50%               NaN     0.000000  \n",
      "75%               NaN     0.000000  \n",
      "max               NaN     1.000000  \n"
     ]
    }
   ]
  },
  {
   "cell_type": "markdown",
   "metadata": {
    "collapsed": true,
    "pycharm": {
     "name": "#%% md\n"
    }
   },
   "source": [
    "# Data Cleaning"
   ]
  },
  {
   "cell_type": "markdown",
   "source": [
    "## Identify Columns That Have Very Few Values"
   ],
   "metadata": {
    "collapsed": false,
    "pycharm": {
     "name": "#%% md\n"
    }
   }
  },
  {
   "cell_type": "code",
   "execution_count": 33,
   "outputs": [],
   "source": [
    "# number of unique values in each column\n",
    "n_uniques = dataset.nunique()"
   ],
   "metadata": {
    "collapsed": false,
    "pycharm": {
     "name": "#%%\n"
    }
   }
  },
  {
   "cell_type": "code",
   "execution_count": 38,
   "outputs": [
    {
     "name": "stdout",
     "output_type": "stream",
     "text": [
      "(5110, 11)\n",
      "Feature               n_unique     percentage\n",
      "gender                       3            0.1%\n",
      "age                        104            2.0%\n",
      "hypertension                 2            0.0%\n",
      "heart_disease                2            0.0%\n",
      "ever_married                 2            0.0%\n",
      "work_type                    5            0.1%\n",
      "Residence_type               2            0.0%\n",
      "avg_glucose_level         3979           77.9%\n",
      "bmi                        418            8.2%\n",
      "smoking_status               4            0.1%\n",
      "stroke                       2            0.0%\n"
     ]
    }
   ],
   "source": [
    "# report the column and the number of unique values for each column\n",
    "print(dataset.shape)\n",
    "print(\"{:<20}{:>10}{:>15}\".format(\"Feature\", \"n_unique\", \"percentage\"))\n",
    "for col in dataset.columns:\n",
    "    percentage = n_uniques[col] / dataset.shape[0] * 100\n",
    "    print(\"{:<20}{:>10}{:>15.1f}%\".format(col, n_uniques[col], percentage))"
   ],
   "metadata": {
    "collapsed": false,
    "pycharm": {
     "name": "#%%\n"
    }
   }
  },
  {
   "cell_type": "code",
   "execution_count": 29,
   "outputs": [
    {
     "name": "stdout",
     "output_type": "stream",
     "text": [
      "gender              ['Male' 'Female' 'Other']\n",
      "hypertension        [0 1]\n",
      "heart_disease       [1 0]\n",
      "ever_married        ['Yes' 'No']\n",
      "work_type           ['Private' 'Self-employed' 'Govt_job' 'children' 'Never_worked']\n",
      "Residence_type      ['Urban' 'Rural']\n",
      "smoking_status      ['formerly smoked' 'never smoked' 'smokes' 'Unknown']\n",
      "stroke              [1 0]\n"
     ]
    }
   ],
   "source": [
    "# report the columns that has less than 1% number of unique values and these unique values\n",
    "for col in dataset.columns:\n",
    "    percentage = n_uniques[col]/dataset.shape[0] * 100\n",
    "    if percentage < 1:\n",
    "        print(\"{:<20}{}\".format(col, dataset[col].unique()))"
   ],
   "metadata": {
    "collapsed": false,
    "pycharm": {
     "name": "#%%\n"
    }
   }
  },
  {
   "cell_type": "markdown",
   "source": [
    "## Remove Rows That Contain Duplicate Data"
   ],
   "metadata": {
    "collapsed": false,
    "pycharm": {
     "name": "#%% md\n"
    }
   }
  },
  {
   "cell_type": "code",
   "execution_count": 24,
   "outputs": [
    {
     "name": "stdout",
     "output_type": "stream",
     "text": [
      "(5110, 11)\n",
      "Duplicate rows? >>> False\n",
      "Empty DataFrame\n",
      "Columns: [gender, age, hypertension, heart_disease, ever_married, work_type, Residence_type, avg_glucose_level, bmi, smoking_status, stroke]\n",
      "Index: []\n",
      "(5110, 11)\n"
     ]
    }
   ],
   "source": [
    "print(dataset.shape)\n",
    "# calculate duplicates\n",
    "dups = dataset.duplicated()\n",
    "# report if there are any duplicated\n",
    "print(\"Duplicate rows? >>>\", dups.any())\n",
    "# list all duplicate rows\n",
    "print(dataset[dups])\n",
    "# drop_duplicate rows (if any)\n",
    "dataset.drop_duplicates(inplace=True)\n",
    "print(dataset.shape)"
   ],
   "metadata": {
    "collapsed": false,
    "pycharm": {
     "name": "#%%\n"
    }
   }
  },
  {
   "cell_type": "markdown",
   "source": [
    "## Outliers Detection"
   ],
   "metadata": {
    "collapsed": false,
    "pycharm": {
     "name": "#%% md\n"
    }
   }
  },
  {
   "cell_type": "code",
   "execution_count": 30,
   "outputs": [
    {
     "name": "stdout",
     "output_type": "stream",
     "text": [
      "Categorical features detected: ['gender', 'hypertension', 'heart_disease', 'ever_married', 'work_type', 'Residence_type', 'smoking_status', 'stroke']\n",
      "Numerical features detected: ['age', 'avg_glucose_level', 'bmi']\n"
     ]
    }
   ],
   "source": [
    "# determine categorical and numerical features by percentage of unique values\n",
    "categorical_ix = []\n",
    "numerical_ix = []\n",
    "for col in dataset.columns:\n",
    "    percentage = n_uniques[col]/dataset.shape[0] * 100\n",
    "    if percentage < 1:\n",
    "        categorical_ix.append(col)\n",
    "    else:\n",
    "        numerical_ix.append(col)\n",
    "print(\"Categorical features detected:\", categorical_ix)\n",
    "print(\"Numerical features detected:\", numerical_ix)"
   ],
   "metadata": {
    "collapsed": false,
    "pycharm": {
     "name": "#%%\n"
    }
   }
  },
  {
   "cell_type": "code",
   "execution_count": 40,
   "outputs": [
    {
     "data": {
      "text/plain": "<Figure size 432x288 with 4 Axes>",
      "image/png": "[encoded data removed]"
     },
     "metadata": {
      "needs_background": "light"
     },
     "output_type": "display_data"
    },
    {
     "data": {
      "text/plain": "               age  avg_glucose_level          bmi\ncount  5110.000000        5110.000000  4909.000000\nmean     43.226614         106.147677    28.893237\nstd      22.612647          45.283560     7.854067\nmin       0.080000          55.120000    10.300000\n25%      25.000000          77.245000    23.500000\n50%      45.000000          91.885000    28.100000\n75%      61.000000         114.090000    33.100000\nmax      82.000000         271.740000    97.600000",
      "text/html": "<div>\n<style scoped>\n    .dataframe tbody tr th:only-of-type {\n        vertical-align: middle;\n    }\n\n    .dataframe tbody tr th {\n        vertical-align: top;\n    }\n\n    .dataframe thead th {\n        text-align: right;\n    }\n</style>\n<table border=\"1\" class=\"dataframe\">\n  <thead>\n    <tr style=\"text-align: right;\">\n      <th></th>\n      <th>age</th>\n      <th>avg_glucose_level</th>\n      <th>bmi</th>\n    </tr>\n  </thead>\n  <tbody>\n    <tr>\n      <th>count</th>\n      <td>5110.000000</td>\n      <td>5110.000000</td>\n      <td>4909.000000</td>\n    </tr>\n    <tr>\n      <th>mean</th>\n      <td>43.226614</td>\n      <td>106.147677</td>\n      <td>28.893237</td>\n    </tr>\n    <tr>\n      <th>std</th>\n      <td>22.612647</td>\n      <td>45.283560</td>\n      <td>7.854067</td>\n    </tr>\n    <tr>\n      <th>min</th>\n      <td>0.080000</td>\n      <td>55.120000</td>\n      <td>10.300000</td>\n    </tr>\n    <tr>\n      <th>25%</th>\n      <td>25.000000</td>\n      <td>77.245000</td>\n      <td>23.500000</td>\n    </tr>\n    <tr>\n      <th>50%</th>\n      <td>45.000000</td>\n      <td>91.885000</td>\n      <td>28.100000</td>\n    </tr>\n    <tr>\n      <th>75%</th>\n      <td>61.000000</td>\n      <td>114.090000</td>\n      <td>33.100000</td>\n    </tr>\n    <tr>\n      <th>max</th>\n      <td>82.000000</td>\n      <td>271.740000</td>\n      <td>97.600000</td>\n    </tr>\n  </tbody>\n</table>\n</div>"
     },
     "execution_count": 40,
     "metadata": {},
     "output_type": "execute_result"
    }
   ],
   "source": [
    "# box plot\n",
    "fig = dataset[numerical_ix].hist(xlabelsize=8, ylabelsize=8)\n",
    "[x.title.set_size(8) for x in fig.ravel()]\n",
    "pyplot.show()\n",
    "\n",
    "# summarize\n",
    "dataset[numerical_ix].describe()"
   ],
   "metadata": {
    "collapsed": false,
    "pycharm": {
     "name": "#%%\n"
    }
   }
  },
  {
   "cell_type": "markdown",
   "source": [
    "By looking at the table and by research domain specific knowledge, we infer:\n",
    "\n",
    "* *age* feature has outliers, where min value should be greater than 0.08\n",
    "* *bmi* feature has outliers, where max value should not be far greater than 35"
   ],
   "metadata": {
    "collapsed": false,
    "pycharm": {
     "name": "#%% md\n"
    }
   }
  },
  {
   "cell_type": "markdown",
   "source": [
    "## Remove Outlier with Domain Specific Knowledge\n",
    "\n"
   ],
   "metadata": {
    "collapsed": false,
    "pycharm": {
     "name": "#%% md\n"
    }
   }
  },
  {
   "cell_type": "markdown",
   "source": [
    "### Remove Outlier With Standard Deviation\n"
   ],
   "metadata": {
    "collapsed": false,
    "pycharm": {
     "name": "#%% md\n"
    }
   }
  },
  {
   "cell_type": "markdown",
   "source": [
    "### Remove Outlier With Quantile Range\n"
   ],
   "metadata": {
    "collapsed": false,
    "pycharm": {
     "name": "#%% md\n"
    }
   }
  },
  {
   "cell_type": "markdown",
   "source": [
    "### Remove Outliers With Local Outlier Factor"
   ],
   "metadata": {
    "collapsed": false,
    "pycharm": {
     "name": "#%% md\n"
    }
   }
  }
 ],
 "metadata": {
  "kernelspec": {
   "display_name": "Python 3",
   "language": "python",
   "name": "python3"
  },
  "language_info": {
   "codemirror_mode": {
    "name": "ipython",
    "version": 2
   },
   "file_extension": ".py",
   "mimetype": "text/x-python",
   "name": "python",
   "nbconvert_exporter": "python",
   "pygments_lexer": "ipython2",
   "version": "2.7.6"
  }
 },
 "nbformat": 4,
 "nbformat_minor": 0
}