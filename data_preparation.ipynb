{
 "cells": [
  {
   "cell_type": "code",
   "execution_count": 1,
   "metadata": {
    "pycharm": {
     "name": "#%%\n"
    }
   },
   "outputs": [],
   "source": [
    "import pandas as pd\n",
    "from matplotlib import pyplot\n",
    "from pandas.plotting import scatter_matrix\n",
    "from sklearn.impute import SimpleImputer\n",
    "from sklearn.neighbors import LocalOutlierFactor\n",
    "from sklearn.model_selection import train_test_split\n",
    "from sklearn.preprocessing import OrdinalEncoder\n",
    "from sklearn.preprocessing import LabelEncoder\n",
    "from sklearn.preprocessing import OneHotEncoder\n",
    "from sklearn.preprocessing import MinMaxScaler\n",
    "from sklearn.preprocessing import StandardScaler\n",
    "from sklearn.compose import ColumnTransformer\n",
    "from sklearn.impute import KNNImputer\n",
    "from sklearn.preprocessing import QuantileTransformer\n",
    "from sklearn.preprocessing import KBinsDiscretizer\n",
    "from numpy import nan\n",
    "import numpy as np"
   ]
  },
  {
   "cell_type": "code",
   "execution_count": 417,
   "metadata": {
    "pycharm": {
     "name": "#%%\n"
    }
   },
   "outputs": [],
   "source": [
    "dataset = pd.read_csv(\"healthcare-dataset-stroke-data.csv\", index_col=\"id\")\n",
    "\n",
    "features = ['gender', 'age', 'hypertension', 'heart_disease', 'ever_married',\n",
    "            'work_type', 'Residence_type', 'avg_glucose_level', 'bmi', 'smoking_status']\n",
    "target = 'stroke'\n"
   ]
  },
  {
   "cell_type": "markdown",
   "metadata": {
    "pycharm": {
     "name": "#%% md\n"
    }
   },
   "source": [
    "# Split data"
   ]
  },
  {
   "cell_type": "markdown",
   "metadata": {
    "pycharm": {
     "name": "#%% md\n"
    }
   },
   "source": [
    "We split data into training set and test set to avoid data leakage."
   ]
  },
  {
   "cell_type": "code",
   "execution_count": 418,
   "metadata": {
    "pycharm": {
     "name": "#%%\n"
    }
   },
   "outputs": [],
   "source": [
    "train_set, test_set = train_test_split(dataset, test_size=0.33, random_state=1)\n",
    "train_set, test_set = train_set.copy(), test_set.copy()\n"
   ]
  },
  {
   "cell_type": "code",
   "execution_count": 419,
   "metadata": {
    "pycharm": {
     "name": "#%%\n"
    }
   },
   "outputs": [],
   "source": [
    "# number of unique values in each column\n",
    "n_uniques = dataset.nunique()"
   ]
  },
  {
   "cell_type": "markdown",
   "metadata": {
    "pycharm": {
     "name": "#%% md\n"
    }
   },
   "source": [
    "# Identify Columns That Have Very Few Values"
   ]
  },
  {
   "cell_type": "code",
   "execution_count": 420,
   "metadata": {
    "pycharm": {
     "name": "#%%\n"
    },
    "scrolled": false
   },
   "outputs": [
    {
     "name": "stdout",
     "output_type": "stream",
     "text": [
      "> NUMBER OF UNIQUE VALUES ON EACH FEATURE COLUMN:\n",
      "FEATURE             N_UNIQUE  PERCENTAGE\t Unique values\n",
      "-----------------------------------------------------------------------------------------\n",
      "gender                     3         0.1%\t ['Male' 'Female' 'Other']\n",
      "age                      104         2.0%\t \n",
      "hypertension               2         0.0%\t [0 1]\n",
      "heart_disease              2         0.0%\t [1 0]\n",
      "ever_married               2         0.0%\t ['Yes' 'No']\n",
      "work_type                  5         0.1%\t ['Private' 'Self-employed' 'Govt_job' 'children' 'Never_worked']\n",
      "Residence_type             2         0.0%\t ['Urban' 'Rural']\n",
      "avg_glucose_level       3979        77.9%\t \n",
      "bmi                      418         8.2%\t \n",
      "smoking_status             4         0.1%\t ['formerly smoked' 'never smoked' 'smokes' 'Unknown']\n"
     ]
    }
   ],
   "source": [
    "print(\"> NUMBER OF UNIQUE VALUES ON EACH FEATURE COLUMN:\")\n",
    "print(\"{:<20}{:>8}{:>12}\\t {}\".format(\"FEATURE\", \"N_UNIQUE\", \"PERCENTAGE\", \"Unique values\"))\n",
    "print(\"-----------------------------------------------------------------------------------------\")\n",
    "for col in features:\n",
    "    percentage = n_uniques[col] / dataset.shape[0] * 100\n",
    "    print(\"{:<20}{:>8}{:>12.1f}%\\t\".format(col, n_uniques[col], percentage), (dataset[col].unique() if percentage < 1 else \"\"))"
   ]
  },
  {
   "cell_type": "markdown",
   "metadata": {},
   "source": [
    "Luckily, we don't have any single-value columns."
   ]
  },
  {
   "cell_type": "markdown",
   "metadata": {},
   "source": [
    "# Determine Numerical and Categorical Features"
   ]
  },
  {
   "cell_type": "code",
   "execution_count": 421,
   "metadata": {
    "pycharm": {
     "name": "#%%\n"
    }
   },
   "outputs": [
    {
     "name": "stdout",
     "output_type": "stream",
     "text": [
      "CATEGORICAL: ['gender', 'hypertension', 'heart_disease', 'ever_married', 'work_type', 'Residence_type', 'smoking_status']\n",
      "NUMERICAL  : ['age', 'avg_glucose_level', 'bmi']\n"
     ]
    }
   ],
   "source": [
    "# determine by percentage of unique values\n",
    "categorical_ix = []\n",
    "numerical_ix = []\n",
    "for col in features:\n",
    "    percentage = n_uniques[col]/dataset.shape[0] * 100\n",
    "    if percentage < 1:\n",
    "        categorical_ix.append(col)\n",
    "    else:\n",
    "        numerical_ix.append(col)\n",
    "print(\"CATEGORICAL:\", categorical_ix)\n",
    "print(\"NUMERICAL  :\", numerical_ix)"
   ]
  },
  {
   "cell_type": "markdown",
   "metadata": {
    "pycharm": {
     "name": "#%% md\n"
    }
   },
   "source": [
    "From now on, we'll be fiting data preparation on training set only."
   ]
  },
  {
   "cell_type": "markdown",
   "metadata": {},
   "source": [
    "# Steps Working On The Training Set"
   ]
  },
  {
   "cell_type": "markdown",
   "metadata": {
    "pycharm": {
     "name": "#%% md\n"
    }
   },
   "source": [
    "## 1. Remove Rows That Contain Duplicate Data"
   ]
  },
  {
   "cell_type": "code",
   "execution_count": 422,
   "metadata": {
    "pycharm": {
     "name": "#%%\n"
    }
   },
   "outputs": [
    {
     "name": "stdout",
     "output_type": "stream",
     "text": [
      "Removing Duplicate Rows\n",
      "\t\tNumber\n",
      "-------------------------------\n",
      "Before\t\t3423\n",
      "Detected\t0\n",
      "After\t\t3423\n",
      "\n"
     ]
    }
   ],
   "source": [
    "before = train_set.shape[0]\n",
    "\n",
    "dups = train_set.duplicated()\n",
    "n_dups = len(train_set[dups])\n",
    "train_set.drop_duplicates(inplace=True)\n",
    "\n",
    "after = train_set.shape[0]\n",
    "print(\"\"\"Removing Duplicate Rows\n",
    "\\t\\tNumber\n",
    "-------------------------------\n",
    "Before\\t\\t{}\n",
    "Detected\\t{}\n",
    "After\\t\\t{}\n",
    "\"\"\".format(before, n_dups, after))"
   ]
  },
  {
   "cell_type": "markdown",
   "metadata": {
    "pycharm": {
     "name": "#%% md\n"
    }
   },
   "source": [
    "## 2. Outliers Detection On Numerical Features\n"
   ]
  },
  {
   "cell_type": "markdown",
   "metadata": {},
   "source": [
    "Take a look at the statistics of numerical features in the training set"
   ]
  },
  {
   "cell_type": "code",
   "execution_count": 423,
   "metadata": {
    "pycharm": {
     "name": "#%%\n"
    }
   },
   "outputs": [
    {
     "data": {
      "image/png": "[encoded data removed]",
      "text/plain": [
       "<Figure size 1296x360 with 3 Axes>"
      ]
     },
     "metadata": {
      "needs_background": "light"
     },
     "output_type": "display_data"
    },
    {
     "data": {
      "image/png": "[encoded data removed]",
      "text/plain": [
       "<Figure size 1296x360 with 3 Axes>"
      ]
     },
     "metadata": {
      "needs_background": "light"
     },
     "output_type": "display_data"
    },
    {
     "data": {
      "text/html": [
       "<div>\n",
       "<style scoped>\n",
       "    .dataframe tbody tr th:only-of-type {\n",
       "        vertical-align: middle;\n",
       "    }\n",
       "\n",
       "    .dataframe tbody tr th {\n",
       "        vertical-align: top;\n",
       "    }\n",
       "\n",
       "    .dataframe thead th {\n",
       "        text-align: right;\n",
       "    }\n",
       "</style>\n",
       "<table border=\"1\" class=\"dataframe\">\n",
       "  <thead>\n",
       "    <tr style=\"text-align: right;\">\n",
       "      <th></th>\n",
       "      <th>age</th>\n",
       "      <th>avg_glucose_level</th>\n",
       "      <th>bmi</th>\n",
       "    </tr>\n",
       "  </thead>\n",
       "  <tbody>\n",
       "    <tr>\n",
       "      <th>count</th>\n",
       "      <td>3423.00000</td>\n",
       "      <td>3423.000000</td>\n",
       "      <td>3285.000000</td>\n",
       "    </tr>\n",
       "    <tr>\n",
       "      <th>mean</th>\n",
       "      <td>43.41532</td>\n",
       "      <td>105.673082</td>\n",
       "      <td>29.068919</td>\n",
       "    </tr>\n",
       "    <tr>\n",
       "      <th>std</th>\n",
       "      <td>22.43486</td>\n",
       "      <td>45.586165</td>\n",
       "      <td>7.841403</td>\n",
       "    </tr>\n",
       "    <tr>\n",
       "      <th>min</th>\n",
       "      <td>0.08000</td>\n",
       "      <td>55.120000</td>\n",
       "      <td>10.300000</td>\n",
       "    </tr>\n",
       "    <tr>\n",
       "      <th>25%</th>\n",
       "      <td>26.00000</td>\n",
       "      <td>76.465000</td>\n",
       "      <td>23.800000</td>\n",
       "    </tr>\n",
       "    <tr>\n",
       "      <th>50%</th>\n",
       "      <td>45.00000</td>\n",
       "      <td>91.040000</td>\n",
       "      <td>28.300000</td>\n",
       "    </tr>\n",
       "    <tr>\n",
       "      <th>75%</th>\n",
       "      <td>61.00000</td>\n",
       "      <td>113.660000</td>\n",
       "      <td>33.100000</td>\n",
       "    </tr>\n",
       "    <tr>\n",
       "      <th>max</th>\n",
       "      <td>82.00000</td>\n",
       "      <td>271.740000</td>\n",
       "      <td>97.600000</td>\n",
       "    </tr>\n",
       "  </tbody>\n",
       "</table>\n",
       "</div>"
      ],
      "text/plain": [
       "              age  avg_glucose_level          bmi\n",
       "count  3423.00000        3423.000000  3285.000000\n",
       "mean     43.41532         105.673082    29.068919\n",
       "std      22.43486          45.586165     7.841403\n",
       "min       0.08000          55.120000    10.300000\n",
       "25%      26.00000          76.465000    23.800000\n",
       "50%      45.00000          91.040000    28.300000\n",
       "75%      61.00000         113.660000    33.100000\n",
       "max      82.00000         271.740000    97.600000"
      ]
     },
     "execution_count": 423,
     "metadata": {},
     "output_type": "execute_result"
    }
   ],
   "source": [
    "# histogram\n",
    "train_set[numerical_ix].plot(kind='hist', subplots=True, layout=(1,3), figsize=(18, 5))\n",
    "pyplot.show()\n",
    "\n",
    "# box and whisker plot\n",
    "train_set[numerical_ix].plot(kind='box', subplots=True, layout=(1,3), figsize=(18, 5))\n",
    "pyplot.show()\n",
    "\n",
    "# summarize\n",
    "train_set[numerical_ix].describe()"
   ]
  },
  {
   "cell_type": "markdown",
   "metadata": {
    "pycharm": {
     "name": "#%% md\n"
    }
   },
   "source": [
    "By looking at the table and by research domain specific knowledge, we infer:\n",
    "\n",
    "* *age* feature has outliers, where min value should be greater than or equal to 1\n",
    "* *bmi* feature has outliers, where max value should not be far greater than 70"
   ]
  },
  {
   "cell_type": "markdown",
   "metadata": {},
   "source": [
    "## 3. Strategy On Identifying Outliers\n",
    "\n",
    "IMPORTANT: READ THIS: https://scikit-learn.org/stable/modules/outlier_detection.html"
   ]
  },
  {
   "cell_type": "markdown",
   "metadata": {},
   "source": [
    "Select one of these following strategies"
   ]
  },
  {
   "cell_type": "markdown",
   "metadata": {
    "pycharm": {
     "name": "#%% md\n"
    }
   },
   "source": [
    "### Option 1: Identify Outlier With Standard Deviation"
   ]
  },
  {
   "cell_type": "markdown",
   "metadata": {
    "pycharm": {
     "name": "#%% md\n"
    }
   },
   "source": [
    "From histogram, we assume *bmi* have near-Gaussian distribution. So we can apply Standard Deviation method in defining outliers."
   ]
  },
  {
   "cell_type": "code",
   "execution_count": 410,
   "metadata": {
    "pycharm": {
     "name": "#%%\n"
    },
    "scrolled": true
   },
   "outputs": [
    {
     "name": "stdout",
     "output_type": "stream",
     "text": [
      "UPPER BOUND FOR BMI IS NOW: 59.795579237486876 WITH FACTOR 4 OF STD FROM MEAN\n",
      "LOWER BOUND FOR AGE IS NOW: 1\n",
      "> NUMBER OF OUTLIERS DETECTED: 34\n",
      "> NUMBER OF REMAINING EXAMPLES: 3389\n"
     ]
    },
    {
     "data": {
      "image/png": "[encoded data removed]",
      "text/plain": [
       "<Figure size 1296x360 with 3 Axes>"
      ]
     },
     "metadata": {
      "needs_background": "light"
     },
     "output_type": "display_data"
    },
    {
     "name": "stdout",
     "output_type": "stream",
     "text": [
      "> THESE ARE OUTLIERS:\n"
     ]
    },
    {
     "data": {
      "text/html": [
       "<div>\n",
       "<style scoped>\n",
       "    .dataframe tbody tr th:only-of-type {\n",
       "        vertical-align: middle;\n",
       "    }\n",
       "\n",
       "    .dataframe tbody tr th {\n",
       "        vertical-align: top;\n",
       "    }\n",
       "\n",
       "    .dataframe thead th {\n",
       "        text-align: right;\n",
       "    }\n",
       "</style>\n",
       "<table border=\"1\" class=\"dataframe\">\n",
       "  <thead>\n",
       "    <tr style=\"text-align: right;\">\n",
       "      <th></th>\n",
       "      <th>gender</th>\n",
       "      <th>age</th>\n",
       "      <th>hypertension</th>\n",
       "      <th>heart_disease</th>\n",
       "      <th>ever_married</th>\n",
       "      <th>work_type</th>\n",
       "      <th>Residence_type</th>\n",
       "      <th>avg_glucose_level</th>\n",
       "      <th>bmi</th>\n",
       "      <th>smoking_status</th>\n",
       "      <th>stroke</th>\n",
       "    </tr>\n",
       "    <tr>\n",
       "      <th>id</th>\n",
       "      <th></th>\n",
       "      <th></th>\n",
       "      <th></th>\n",
       "      <th></th>\n",
       "      <th></th>\n",
       "      <th></th>\n",
       "      <th></th>\n",
       "      <th></th>\n",
       "      <th></th>\n",
       "      <th></th>\n",
       "      <th></th>\n",
       "    </tr>\n",
       "  </thead>\n",
       "  <tbody>\n",
       "    <tr>\n",
       "      <th>47350</th>\n",
       "      <td>Female</td>\n",
       "      <td>0.08</td>\n",
       "      <td>0</td>\n",
       "      <td>0</td>\n",
       "      <td>No</td>\n",
       "      <td>children</td>\n",
       "      <td>Urban</td>\n",
       "      <td>139.67</td>\n",
       "      <td>14.1</td>\n",
       "      <td>missing_value</td>\n",
       "      <td>0</td>\n",
       "    </tr>\n",
       "    <tr>\n",
       "      <th>67099</th>\n",
       "      <td>Male</td>\n",
       "      <td>0.56</td>\n",
       "      <td>0</td>\n",
       "      <td>0</td>\n",
       "      <td>No</td>\n",
       "      <td>children</td>\n",
       "      <td>Rural</td>\n",
       "      <td>57.02</td>\n",
       "      <td>20.7</td>\n",
       "      <td>missing_value</td>\n",
       "      <td>0</td>\n",
       "    </tr>\n",
       "    <tr>\n",
       "      <th>61511</th>\n",
       "      <td>Female</td>\n",
       "      <td>0.32</td>\n",
       "      <td>0</td>\n",
       "      <td>0</td>\n",
       "      <td>No</td>\n",
       "      <td>children</td>\n",
       "      <td>Rural</td>\n",
       "      <td>73.71</td>\n",
       "      <td>16.2</td>\n",
       "      <td>missing_value</td>\n",
       "      <td>0</td>\n",
       "    </tr>\n",
       "    <tr>\n",
       "      <th>23360</th>\n",
       "      <td>Male</td>\n",
       "      <td>0.80</td>\n",
       "      <td>0</td>\n",
       "      <td>0</td>\n",
       "      <td>No</td>\n",
       "      <td>children</td>\n",
       "      <td>Rural</td>\n",
       "      <td>114.54</td>\n",
       "      <td>15.1</td>\n",
       "      <td>missing_value</td>\n",
       "      <td>0</td>\n",
       "    </tr>\n",
       "    <tr>\n",
       "      <th>56714</th>\n",
       "      <td>Female</td>\n",
       "      <td>0.72</td>\n",
       "      <td>0</td>\n",
       "      <td>0</td>\n",
       "      <td>No</td>\n",
       "      <td>children</td>\n",
       "      <td>Rural</td>\n",
       "      <td>62.13</td>\n",
       "      <td>16.8</td>\n",
       "      <td>missing_value</td>\n",
       "      <td>0</td>\n",
       "    </tr>\n",
       "    <tr>\n",
       "      <th>54747</th>\n",
       "      <td>Male</td>\n",
       "      <td>0.88</td>\n",
       "      <td>0</td>\n",
       "      <td>0</td>\n",
       "      <td>No</td>\n",
       "      <td>children</td>\n",
       "      <td>Rural</td>\n",
       "      <td>157.57</td>\n",
       "      <td>19.2</td>\n",
       "      <td>missing_value</td>\n",
       "      <td>0</td>\n",
       "    </tr>\n",
       "    <tr>\n",
       "      <th>66772</th>\n",
       "      <td>Female</td>\n",
       "      <td>0.32</td>\n",
       "      <td>0</td>\n",
       "      <td>0</td>\n",
       "      <td>No</td>\n",
       "      <td>children</td>\n",
       "      <td>Rural</td>\n",
       "      <td>55.86</td>\n",
       "      <td>16.0</td>\n",
       "      <td>missing_value</td>\n",
       "      <td>0</td>\n",
       "    </tr>\n",
       "    <tr>\n",
       "      <th>29487</th>\n",
       "      <td>Male</td>\n",
       "      <td>0.72</td>\n",
       "      <td>0</td>\n",
       "      <td>0</td>\n",
       "      <td>No</td>\n",
       "      <td>children</td>\n",
       "      <td>Urban</td>\n",
       "      <td>80.08</td>\n",
       "      <td>16.4</td>\n",
       "      <td>missing_value</td>\n",
       "      <td>0</td>\n",
       "    </tr>\n",
       "    <tr>\n",
       "      <th>53126</th>\n",
       "      <td>Female</td>\n",
       "      <td>0.64</td>\n",
       "      <td>0</td>\n",
       "      <td>0</td>\n",
       "      <td>No</td>\n",
       "      <td>children</td>\n",
       "      <td>Urban</td>\n",
       "      <td>62.27</td>\n",
       "      <td>17.3</td>\n",
       "      <td>missing_value</td>\n",
       "      <td>0</td>\n",
       "    </tr>\n",
       "    <tr>\n",
       "      <th>34261</th>\n",
       "      <td>Male</td>\n",
       "      <td>0.64</td>\n",
       "      <td>0</td>\n",
       "      <td>0</td>\n",
       "      <td>No</td>\n",
       "      <td>children</td>\n",
       "      <td>Rural</td>\n",
       "      <td>86.74</td>\n",
       "      <td>16.2</td>\n",
       "      <td>missing_value</td>\n",
       "      <td>0</td>\n",
       "    </tr>\n",
       "    <tr>\n",
       "      <th>7559</th>\n",
       "      <td>Female</td>\n",
       "      <td>0.64</td>\n",
       "      <td>0</td>\n",
       "      <td>0</td>\n",
       "      <td>No</td>\n",
       "      <td>children</td>\n",
       "      <td>Urban</td>\n",
       "      <td>83.82</td>\n",
       "      <td>24.9</td>\n",
       "      <td>missing_value</td>\n",
       "      <td>0</td>\n",
       "    </tr>\n",
       "    <tr>\n",
       "      <th>72911</th>\n",
       "      <td>Female</td>\n",
       "      <td>57.00</td>\n",
       "      <td>1</td>\n",
       "      <td>0</td>\n",
       "      <td>Yes</td>\n",
       "      <td>Private</td>\n",
       "      <td>Rural</td>\n",
       "      <td>129.54</td>\n",
       "      <td>60.9</td>\n",
       "      <td>smokes</td>\n",
       "      <td>0</td>\n",
       "    </tr>\n",
       "    <tr>\n",
       "      <th>11371</th>\n",
       "      <td>Male</td>\n",
       "      <td>0.24</td>\n",
       "      <td>0</td>\n",
       "      <td>0</td>\n",
       "      <td>No</td>\n",
       "      <td>children</td>\n",
       "      <td>Urban</td>\n",
       "      <td>89.28</td>\n",
       "      <td>14.2</td>\n",
       "      <td>missing_value</td>\n",
       "      <td>0</td>\n",
       "    </tr>\n",
       "    <tr>\n",
       "      <th>760</th>\n",
       "      <td>Male</td>\n",
       "      <td>0.80</td>\n",
       "      <td>0</td>\n",
       "      <td>0</td>\n",
       "      <td>No</td>\n",
       "      <td>children</td>\n",
       "      <td>Urban</td>\n",
       "      <td>75.22</td>\n",
       "      <td>33.1</td>\n",
       "      <td>missing_value</td>\n",
       "      <td>0</td>\n",
       "    </tr>\n",
       "    <tr>\n",
       "      <th>22877</th>\n",
       "      <td>Male</td>\n",
       "      <td>0.16</td>\n",
       "      <td>0</td>\n",
       "      <td>0</td>\n",
       "      <td>No</td>\n",
       "      <td>children</td>\n",
       "      <td>Urban</td>\n",
       "      <td>114.71</td>\n",
       "      <td>17.4</td>\n",
       "      <td>missing_value</td>\n",
       "      <td>0</td>\n",
       "    </tr>\n",
       "    <tr>\n",
       "      <th>37622</th>\n",
       "      <td>Female</td>\n",
       "      <td>0.32</td>\n",
       "      <td>0</td>\n",
       "      <td>0</td>\n",
       "      <td>No</td>\n",
       "      <td>children</td>\n",
       "      <td>Urban</td>\n",
       "      <td>108.63</td>\n",
       "      <td>19.6</td>\n",
       "      <td>missing_value</td>\n",
       "      <td>0</td>\n",
       "    </tr>\n",
       "    <tr>\n",
       "      <th>42938</th>\n",
       "      <td>Male</td>\n",
       "      <td>0.64</td>\n",
       "      <td>0</td>\n",
       "      <td>0</td>\n",
       "      <td>No</td>\n",
       "      <td>children</td>\n",
       "      <td>Urban</td>\n",
       "      <td>60.40</td>\n",
       "      <td>17.3</td>\n",
       "      <td>missing_value</td>\n",
       "      <td>0</td>\n",
       "    </tr>\n",
       "    <tr>\n",
       "      <th>56420</th>\n",
       "      <td>Male</td>\n",
       "      <td>17.00</td>\n",
       "      <td>1</td>\n",
       "      <td>0</td>\n",
       "      <td>No</td>\n",
       "      <td>Private</td>\n",
       "      <td>Rural</td>\n",
       "      <td>61.67</td>\n",
       "      <td>97.6</td>\n",
       "      <td>missing_value</td>\n",
       "      <td>0</td>\n",
       "    </tr>\n",
       "    <tr>\n",
       "      <th>40255</th>\n",
       "      <td>Female</td>\n",
       "      <td>0.48</td>\n",
       "      <td>0</td>\n",
       "      <td>0</td>\n",
       "      <td>No</td>\n",
       "      <td>children</td>\n",
       "      <td>Rural</td>\n",
       "      <td>118.75</td>\n",
       "      <td>17.4</td>\n",
       "      <td>missing_value</td>\n",
       "      <td>0</td>\n",
       "    </tr>\n",
       "    <tr>\n",
       "      <th>30084</th>\n",
       "      <td>Male</td>\n",
       "      <td>0.80</td>\n",
       "      <td>0</td>\n",
       "      <td>0</td>\n",
       "      <td>No</td>\n",
       "      <td>children</td>\n",
       "      <td>Rural</td>\n",
       "      <td>98.67</td>\n",
       "      <td>17.5</td>\n",
       "      <td>missing_value</td>\n",
       "      <td>0</td>\n",
       "    </tr>\n",
       "    <tr>\n",
       "      <th>25783</th>\n",
       "      <td>Female</td>\n",
       "      <td>0.48</td>\n",
       "      <td>0</td>\n",
       "      <td>0</td>\n",
       "      <td>No</td>\n",
       "      <td>children</td>\n",
       "      <td>Rural</td>\n",
       "      <td>94.06</td>\n",
       "      <td>14.8</td>\n",
       "      <td>missing_value</td>\n",
       "      <td>0</td>\n",
       "    </tr>\n",
       "    <tr>\n",
       "      <th>72784</th>\n",
       "      <td>Female</td>\n",
       "      <td>52.00</td>\n",
       "      <td>0</td>\n",
       "      <td>0</td>\n",
       "      <td>Yes</td>\n",
       "      <td>Private</td>\n",
       "      <td>Rural</td>\n",
       "      <td>118.46</td>\n",
       "      <td>61.6</td>\n",
       "      <td>smokes</td>\n",
       "      <td>0</td>\n",
       "    </tr>\n",
       "    <tr>\n",
       "      <th>15728</th>\n",
       "      <td>Female</td>\n",
       "      <td>0.40</td>\n",
       "      <td>0</td>\n",
       "      <td>0</td>\n",
       "      <td>No</td>\n",
       "      <td>children</td>\n",
       "      <td>Rural</td>\n",
       "      <td>85.65</td>\n",
       "      <td>17.4</td>\n",
       "      <td>missing_value</td>\n",
       "      <td>0</td>\n",
       "    </tr>\n",
       "    <tr>\n",
       "      <th>13857</th>\n",
       "      <td>Male</td>\n",
       "      <td>0.32</td>\n",
       "      <td>0</td>\n",
       "      <td>0</td>\n",
       "      <td>No</td>\n",
       "      <td>children</td>\n",
       "      <td>Urban</td>\n",
       "      <td>89.04</td>\n",
       "      <td>17.8</td>\n",
       "      <td>missing_value</td>\n",
       "      <td>0</td>\n",
       "    </tr>\n",
       "    <tr>\n",
       "      <th>64974</th>\n",
       "      <td>Male</td>\n",
       "      <td>0.24</td>\n",
       "      <td>0</td>\n",
       "      <td>0</td>\n",
       "      <td>No</td>\n",
       "      <td>children</td>\n",
       "      <td>Urban</td>\n",
       "      <td>58.35</td>\n",
       "      <td>18.6</td>\n",
       "      <td>missing_value</td>\n",
       "      <td>0</td>\n",
       "    </tr>\n",
       "    <tr>\n",
       "      <th>1307</th>\n",
       "      <td>Female</td>\n",
       "      <td>61.00</td>\n",
       "      <td>1</td>\n",
       "      <td>0</td>\n",
       "      <td>Yes</td>\n",
       "      <td>Private</td>\n",
       "      <td>Rural</td>\n",
       "      <td>170.05</td>\n",
       "      <td>60.2</td>\n",
       "      <td>smokes</td>\n",
       "      <td>0</td>\n",
       "    </tr>\n",
       "    <tr>\n",
       "      <th>6596</th>\n",
       "      <td>Male</td>\n",
       "      <td>0.56</td>\n",
       "      <td>0</td>\n",
       "      <td>0</td>\n",
       "      <td>No</td>\n",
       "      <td>children</td>\n",
       "      <td>Rural</td>\n",
       "      <td>111.77</td>\n",
       "      <td>21.1</td>\n",
       "      <td>missing_value</td>\n",
       "      <td>0</td>\n",
       "    </tr>\n",
       "    <tr>\n",
       "      <th>51856</th>\n",
       "      <td>Male</td>\n",
       "      <td>38.00</td>\n",
       "      <td>1</td>\n",
       "      <td>0</td>\n",
       "      <td>Yes</td>\n",
       "      <td>Private</td>\n",
       "      <td>Rural</td>\n",
       "      <td>56.90</td>\n",
       "      <td>92.0</td>\n",
       "      <td>never smoked</td>\n",
       "      <td>0</td>\n",
       "    </tr>\n",
       "    <tr>\n",
       "      <th>70670</th>\n",
       "      <td>Female</td>\n",
       "      <td>27.00</td>\n",
       "      <td>0</td>\n",
       "      <td>0</td>\n",
       "      <td>Yes</td>\n",
       "      <td>Private</td>\n",
       "      <td>Rural</td>\n",
       "      <td>57.96</td>\n",
       "      <td>64.4</td>\n",
       "      <td>never smoked</td>\n",
       "      <td>0</td>\n",
       "    </tr>\n",
       "    <tr>\n",
       "      <th>41097</th>\n",
       "      <td>Female</td>\n",
       "      <td>23.00</td>\n",
       "      <td>1</td>\n",
       "      <td>0</td>\n",
       "      <td>No</td>\n",
       "      <td>Private</td>\n",
       "      <td>Urban</td>\n",
       "      <td>70.03</td>\n",
       "      <td>78.0</td>\n",
       "      <td>smokes</td>\n",
       "      <td>0</td>\n",
       "    </tr>\n",
       "    <tr>\n",
       "      <th>41500</th>\n",
       "      <td>Male</td>\n",
       "      <td>0.16</td>\n",
       "      <td>0</td>\n",
       "      <td>0</td>\n",
       "      <td>No</td>\n",
       "      <td>children</td>\n",
       "      <td>Rural</td>\n",
       "      <td>69.79</td>\n",
       "      <td>13.0</td>\n",
       "      <td>missing_value</td>\n",
       "      <td>0</td>\n",
       "    </tr>\n",
       "    <tr>\n",
       "      <th>69222</th>\n",
       "      <td>Male</td>\n",
       "      <td>0.24</td>\n",
       "      <td>0</td>\n",
       "      <td>0</td>\n",
       "      <td>No</td>\n",
       "      <td>children</td>\n",
       "      <td>Urban</td>\n",
       "      <td>57.09</td>\n",
       "      <td>19.4</td>\n",
       "      <td>missing_value</td>\n",
       "      <td>0</td>\n",
       "    </tr>\n",
       "    <tr>\n",
       "      <th>1953</th>\n",
       "      <td>Female</td>\n",
       "      <td>0.72</td>\n",
       "      <td>0</td>\n",
       "      <td>0</td>\n",
       "      <td>No</td>\n",
       "      <td>children</td>\n",
       "      <td>Rural</td>\n",
       "      <td>112.19</td>\n",
       "      <td>20.1</td>\n",
       "      <td>missing_value</td>\n",
       "      <td>0</td>\n",
       "    </tr>\n",
       "    <tr>\n",
       "      <th>65895</th>\n",
       "      <td>Female</td>\n",
       "      <td>52.00</td>\n",
       "      <td>0</td>\n",
       "      <td>0</td>\n",
       "      <td>Yes</td>\n",
       "      <td>Private</td>\n",
       "      <td>Urban</td>\n",
       "      <td>98.27</td>\n",
       "      <td>61.2</td>\n",
       "      <td>missing_value</td>\n",
       "      <td>0</td>\n",
       "    </tr>\n",
       "  </tbody>\n",
       "</table>\n",
       "</div>"
      ],
      "text/plain": [
       "       gender    age  hypertension  heart_disease ever_married work_type  \\\n",
       "id                                                                         \n",
       "47350  Female   0.08             0              0           No  children   \n",
       "67099    Male   0.56             0              0           No  children   \n",
       "61511  Female   0.32             0              0           No  children   \n",
       "23360    Male   0.80             0              0           No  children   \n",
       "56714  Female   0.72             0              0           No  children   \n",
       "54747    Male   0.88             0              0           No  children   \n",
       "66772  Female   0.32             0              0           No  children   \n",
       "29487    Male   0.72             0              0           No  children   \n",
       "53126  Female   0.64             0              0           No  children   \n",
       "34261    Male   0.64             0              0           No  children   \n",
       "7559   Female   0.64             0              0           No  children   \n",
       "72911  Female  57.00             1              0          Yes   Private   \n",
       "11371    Male   0.24             0              0           No  children   \n",
       "760      Male   0.80             0              0           No  children   \n",
       "22877    Male   0.16             0              0           No  children   \n",
       "37622  Female   0.32             0              0           No  children   \n",
       "42938    Male   0.64             0              0           No  children   \n",
       "56420    Male  17.00             1              0           No   Private   \n",
       "40255  Female   0.48             0              0           No  children   \n",
       "30084    Male   0.80             0              0           No  children   \n",
       "25783  Female   0.48             0              0           No  children   \n",
       "72784  Female  52.00             0              0          Yes   Private   \n",
       "15728  Female   0.40             0              0           No  children   \n",
       "13857    Male   0.32             0              0           No  children   \n",
       "64974    Male   0.24             0              0           No  children   \n",
       "1307   Female  61.00             1              0          Yes   Private   \n",
       "6596     Male   0.56             0              0           No  children   \n",
       "51856    Male  38.00             1              0          Yes   Private   \n",
       "70670  Female  27.00             0              0          Yes   Private   \n",
       "41097  Female  23.00             1              0           No   Private   \n",
       "41500    Male   0.16             0              0           No  children   \n",
       "69222    Male   0.24             0              0           No  children   \n",
       "1953   Female   0.72             0              0           No  children   \n",
       "65895  Female  52.00             0              0          Yes   Private   \n",
       "\n",
       "      Residence_type  avg_glucose_level   bmi smoking_status  stroke  \n",
       "id                                                                    \n",
       "47350          Urban             139.67  14.1  missing_value       0  \n",
       "67099          Rural              57.02  20.7  missing_value       0  \n",
       "61511          Rural              73.71  16.2  missing_value       0  \n",
       "23360          Rural             114.54  15.1  missing_value       0  \n",
       "56714          Rural              62.13  16.8  missing_value       0  \n",
       "54747          Rural             157.57  19.2  missing_value       0  \n",
       "66772          Rural              55.86  16.0  missing_value       0  \n",
       "29487          Urban              80.08  16.4  missing_value       0  \n",
       "53126          Urban              62.27  17.3  missing_value       0  \n",
       "34261          Rural              86.74  16.2  missing_value       0  \n",
       "7559           Urban              83.82  24.9  missing_value       0  \n",
       "72911          Rural             129.54  60.9         smokes       0  \n",
       "11371          Urban              89.28  14.2  missing_value       0  \n",
       "760            Urban              75.22  33.1  missing_value       0  \n",
       "22877          Urban             114.71  17.4  missing_value       0  \n",
       "37622          Urban             108.63  19.6  missing_value       0  \n",
       "42938          Urban              60.40  17.3  missing_value       0  \n",
       "56420          Rural              61.67  97.6  missing_value       0  \n",
       "40255          Rural             118.75  17.4  missing_value       0  \n",
       "30084          Rural              98.67  17.5  missing_value       0  \n",
       "25783          Rural              94.06  14.8  missing_value       0  \n",
       "72784          Rural             118.46  61.6         smokes       0  \n",
       "15728          Rural              85.65  17.4  missing_value       0  \n",
       "13857          Urban              89.04  17.8  missing_value       0  \n",
       "64974          Urban              58.35  18.6  missing_value       0  \n",
       "1307           Rural             170.05  60.2         smokes       0  \n",
       "6596           Rural             111.77  21.1  missing_value       0  \n",
       "51856          Rural              56.90  92.0   never smoked       0  \n",
       "70670          Rural              57.96  64.4   never smoked       0  \n",
       "41097          Urban              70.03  78.0         smokes       0  \n",
       "41500          Rural              69.79  13.0  missing_value       0  \n",
       "69222          Urban              57.09  19.4  missing_value       0  \n",
       "1953           Rural             112.19  20.1  missing_value       0  \n",
       "65895          Urban              98.27  61.2  missing_value       0  "
      ]
     },
     "execution_count": 410,
     "metadata": {},
     "output_type": "execute_result"
    }
   ],
   "source": [
    "bmi_mean, bmi_std = train_set[\"bmi\"].mean(), train_set[\"bmi\"].std()\n",
    "# define outliers outside 4 factor of std from mean\n",
    "factor = 4\n",
    "cut_off = bmi_std * factor\n",
    "bmi_upper = bmi_mean + cut_off\n",
    "print(\"UPPER BOUND FOR BMI IS NOW:\", bmi_upper, \"WITH FACTOR\", factor, \"OF STD FROM MEAN\")\n",
    "\n",
    "age_lower = 1\n",
    "print(\"LOWER BOUND FOR AGE IS NOW:\", age_lower)\n",
    "\n",
    "# identify non-outlier indexes\n",
    "mask_outlier = (train_set[\"bmi\"] > bmi_upper) | (train_set[\"age\"] < age_lower)\n",
    "mask_nonoutlier = mask_outlier == False\n",
    "\n",
    "print(\"> NUMBER OF OUTLIERS DETECTED:\", train_set[mask_outlier].shape[0])\n",
    "print(\"> NUMBER OF REMAINING EXAMPLES:\", train_set[mask_nonoutlier].shape[0])\n",
    "\n",
    "# box and whisker plot\n",
    "train_set[mask_nonoutlier][numerical_ix].plot(kind='box', subplots=True, layout=(1,3), figsize=(18, 5))\n",
    "pyplot.show()\n",
    "\n",
    "print(\"> THESE ARE OUTLIERS:\")\n",
    "train_set[mask_outlier]"
   ]
  },
  {
   "cell_type": "markdown",
   "metadata": {},
   "source": [
    "### Option 2: Identify Outlier With Quantile Range"
   ]
  },
  {
   "cell_type": "code",
   "execution_count": 424,
   "metadata": {
    "pycharm": {
     "name": "#%%\n"
    },
    "scrolled": true
   },
   "outputs": [
    {
     "name": "stdout",
     "output_type": "stream",
     "text": [
      "UPPER BOUND FOR BMI IS NOW: 70.30000000000001 WITH FACTOR 4 OF IQR\n",
      "LOWER BOUND FOR AGE IS NOW: 1\n",
      "> NUMBER OF OUTLIERS DETECTED: 29\n",
      "> NUMBER OF REMAINING EXAMPLES: 3394\n"
     ]
    },
    {
     "data": {
      "image/png": "[encoded data removed]",
      "text/plain": [
       "<Figure size 1296x360 with 3 Axes>"
      ]
     },
     "metadata": {
      "needs_background": "light"
     },
     "output_type": "display_data"
    },
    {
     "name": "stdout",
     "output_type": "stream",
     "text": [
      "> THESE ARE OUTLIERS:\n"
     ]
    },
    {
     "data": {
      "text/html": [
       "<div>\n",
       "<style scoped>\n",
       "    .dataframe tbody tr th:only-of-type {\n",
       "        vertical-align: middle;\n",
       "    }\n",
       "\n",
       "    .dataframe tbody tr th {\n",
       "        vertical-align: top;\n",
       "    }\n",
       "\n",
       "    .dataframe thead th {\n",
       "        text-align: right;\n",
       "    }\n",
       "</style>\n",
       "<table border=\"1\" class=\"dataframe\">\n",
       "  <thead>\n",
       "    <tr style=\"text-align: right;\">\n",
       "      <th></th>\n",
       "      <th>gender</th>\n",
       "      <th>age</th>\n",
       "      <th>hypertension</th>\n",
       "      <th>heart_disease</th>\n",
       "      <th>ever_married</th>\n",
       "      <th>work_type</th>\n",
       "      <th>Residence_type</th>\n",
       "      <th>avg_glucose_level</th>\n",
       "      <th>bmi</th>\n",
       "      <th>smoking_status</th>\n",
       "      <th>stroke</th>\n",
       "    </tr>\n",
       "    <tr>\n",
       "      <th>id</th>\n",
       "      <th></th>\n",
       "      <th></th>\n",
       "      <th></th>\n",
       "      <th></th>\n",
       "      <th></th>\n",
       "      <th></th>\n",
       "      <th></th>\n",
       "      <th></th>\n",
       "      <th></th>\n",
       "      <th></th>\n",
       "      <th></th>\n",
       "    </tr>\n",
       "  </thead>\n",
       "  <tbody>\n",
       "    <tr>\n",
       "      <th>47350</th>\n",
       "      <td>Female</td>\n",
       "      <td>0.08</td>\n",
       "      <td>0</td>\n",
       "      <td>0</td>\n",
       "      <td>No</td>\n",
       "      <td>children</td>\n",
       "      <td>Urban</td>\n",
       "      <td>139.67</td>\n",
       "      <td>14.1</td>\n",
       "      <td>Unknown</td>\n",
       "      <td>0</td>\n",
       "    </tr>\n",
       "    <tr>\n",
       "      <th>67099</th>\n",
       "      <td>Male</td>\n",
       "      <td>0.56</td>\n",
       "      <td>0</td>\n",
       "      <td>0</td>\n",
       "      <td>No</td>\n",
       "      <td>children</td>\n",
       "      <td>Rural</td>\n",
       "      <td>57.02</td>\n",
       "      <td>20.7</td>\n",
       "      <td>Unknown</td>\n",
       "      <td>0</td>\n",
       "    </tr>\n",
       "    <tr>\n",
       "      <th>61511</th>\n",
       "      <td>Female</td>\n",
       "      <td>0.32</td>\n",
       "      <td>0</td>\n",
       "      <td>0</td>\n",
       "      <td>No</td>\n",
       "      <td>children</td>\n",
       "      <td>Rural</td>\n",
       "      <td>73.71</td>\n",
       "      <td>16.2</td>\n",
       "      <td>Unknown</td>\n",
       "      <td>0</td>\n",
       "    </tr>\n",
       "    <tr>\n",
       "      <th>23360</th>\n",
       "      <td>Male</td>\n",
       "      <td>0.80</td>\n",
       "      <td>0</td>\n",
       "      <td>0</td>\n",
       "      <td>No</td>\n",
       "      <td>children</td>\n",
       "      <td>Rural</td>\n",
       "      <td>114.54</td>\n",
       "      <td>15.1</td>\n",
       "      <td>Unknown</td>\n",
       "      <td>0</td>\n",
       "    </tr>\n",
       "    <tr>\n",
       "      <th>56714</th>\n",
       "      <td>Female</td>\n",
       "      <td>0.72</td>\n",
       "      <td>0</td>\n",
       "      <td>0</td>\n",
       "      <td>No</td>\n",
       "      <td>children</td>\n",
       "      <td>Rural</td>\n",
       "      <td>62.13</td>\n",
       "      <td>16.8</td>\n",
       "      <td>Unknown</td>\n",
       "      <td>0</td>\n",
       "    </tr>\n",
       "    <tr>\n",
       "      <th>54747</th>\n",
       "      <td>Male</td>\n",
       "      <td>0.88</td>\n",
       "      <td>0</td>\n",
       "      <td>0</td>\n",
       "      <td>No</td>\n",
       "      <td>children</td>\n",
       "      <td>Rural</td>\n",
       "      <td>157.57</td>\n",
       "      <td>19.2</td>\n",
       "      <td>Unknown</td>\n",
       "      <td>0</td>\n",
       "    </tr>\n",
       "    <tr>\n",
       "      <th>66772</th>\n",
       "      <td>Female</td>\n",
       "      <td>0.32</td>\n",
       "      <td>0</td>\n",
       "      <td>0</td>\n",
       "      <td>No</td>\n",
       "      <td>children</td>\n",
       "      <td>Rural</td>\n",
       "      <td>55.86</td>\n",
       "      <td>16.0</td>\n",
       "      <td>Unknown</td>\n",
       "      <td>0</td>\n",
       "    </tr>\n",
       "    <tr>\n",
       "      <th>29487</th>\n",
       "      <td>Male</td>\n",
       "      <td>0.72</td>\n",
       "      <td>0</td>\n",
       "      <td>0</td>\n",
       "      <td>No</td>\n",
       "      <td>children</td>\n",
       "      <td>Urban</td>\n",
       "      <td>80.08</td>\n",
       "      <td>16.4</td>\n",
       "      <td>Unknown</td>\n",
       "      <td>0</td>\n",
       "    </tr>\n",
       "    <tr>\n",
       "      <th>53126</th>\n",
       "      <td>Female</td>\n",
       "      <td>0.64</td>\n",
       "      <td>0</td>\n",
       "      <td>0</td>\n",
       "      <td>No</td>\n",
       "      <td>children</td>\n",
       "      <td>Urban</td>\n",
       "      <td>62.27</td>\n",
       "      <td>17.3</td>\n",
       "      <td>Unknown</td>\n",
       "      <td>0</td>\n",
       "    </tr>\n",
       "    <tr>\n",
       "      <th>34261</th>\n",
       "      <td>Male</td>\n",
       "      <td>0.64</td>\n",
       "      <td>0</td>\n",
       "      <td>0</td>\n",
       "      <td>No</td>\n",
       "      <td>children</td>\n",
       "      <td>Rural</td>\n",
       "      <td>86.74</td>\n",
       "      <td>16.2</td>\n",
       "      <td>Unknown</td>\n",
       "      <td>0</td>\n",
       "    </tr>\n",
       "    <tr>\n",
       "      <th>7559</th>\n",
       "      <td>Female</td>\n",
       "      <td>0.64</td>\n",
       "      <td>0</td>\n",
       "      <td>0</td>\n",
       "      <td>No</td>\n",
       "      <td>children</td>\n",
       "      <td>Urban</td>\n",
       "      <td>83.82</td>\n",
       "      <td>24.9</td>\n",
       "      <td>Unknown</td>\n",
       "      <td>0</td>\n",
       "    </tr>\n",
       "    <tr>\n",
       "      <th>11371</th>\n",
       "      <td>Male</td>\n",
       "      <td>0.24</td>\n",
       "      <td>0</td>\n",
       "      <td>0</td>\n",
       "      <td>No</td>\n",
       "      <td>children</td>\n",
       "      <td>Urban</td>\n",
       "      <td>89.28</td>\n",
       "      <td>14.2</td>\n",
       "      <td>Unknown</td>\n",
       "      <td>0</td>\n",
       "    </tr>\n",
       "    <tr>\n",
       "      <th>760</th>\n",
       "      <td>Male</td>\n",
       "      <td>0.80</td>\n",
       "      <td>0</td>\n",
       "      <td>0</td>\n",
       "      <td>No</td>\n",
       "      <td>children</td>\n",
       "      <td>Urban</td>\n",
       "      <td>75.22</td>\n",
       "      <td>33.1</td>\n",
       "      <td>Unknown</td>\n",
       "      <td>0</td>\n",
       "    </tr>\n",
       "    <tr>\n",
       "      <th>22877</th>\n",
       "      <td>Male</td>\n",
       "      <td>0.16</td>\n",
       "      <td>0</td>\n",
       "      <td>0</td>\n",
       "      <td>No</td>\n",
       "      <td>children</td>\n",
       "      <td>Urban</td>\n",
       "      <td>114.71</td>\n",
       "      <td>17.4</td>\n",
       "      <td>Unknown</td>\n",
       "      <td>0</td>\n",
       "    </tr>\n",
       "    <tr>\n",
       "      <th>37622</th>\n",
       "      <td>Female</td>\n",
       "      <td>0.32</td>\n",
       "      <td>0</td>\n",
       "      <td>0</td>\n",
       "      <td>No</td>\n",
       "      <td>children</td>\n",
       "      <td>Urban</td>\n",
       "      <td>108.63</td>\n",
       "      <td>19.6</td>\n",
       "      <td>Unknown</td>\n",
       "      <td>0</td>\n",
       "    </tr>\n",
       "    <tr>\n",
       "      <th>42938</th>\n",
       "      <td>Male</td>\n",
       "      <td>0.64</td>\n",
       "      <td>0</td>\n",
       "      <td>0</td>\n",
       "      <td>No</td>\n",
       "      <td>children</td>\n",
       "      <td>Urban</td>\n",
       "      <td>60.40</td>\n",
       "      <td>17.3</td>\n",
       "      <td>Unknown</td>\n",
       "      <td>0</td>\n",
       "    </tr>\n",
       "    <tr>\n",
       "      <th>56420</th>\n",
       "      <td>Male</td>\n",
       "      <td>17.00</td>\n",
       "      <td>1</td>\n",
       "      <td>0</td>\n",
       "      <td>No</td>\n",
       "      <td>Private</td>\n",
       "      <td>Rural</td>\n",
       "      <td>61.67</td>\n",
       "      <td>97.6</td>\n",
       "      <td>Unknown</td>\n",
       "      <td>0</td>\n",
       "    </tr>\n",
       "    <tr>\n",
       "      <th>40255</th>\n",
       "      <td>Female</td>\n",
       "      <td>0.48</td>\n",
       "      <td>0</td>\n",
       "      <td>0</td>\n",
       "      <td>No</td>\n",
       "      <td>children</td>\n",
       "      <td>Rural</td>\n",
       "      <td>118.75</td>\n",
       "      <td>17.4</td>\n",
       "      <td>Unknown</td>\n",
       "      <td>0</td>\n",
       "    </tr>\n",
       "    <tr>\n",
       "      <th>30084</th>\n",
       "      <td>Male</td>\n",
       "      <td>0.80</td>\n",
       "      <td>0</td>\n",
       "      <td>0</td>\n",
       "      <td>No</td>\n",
       "      <td>children</td>\n",
       "      <td>Rural</td>\n",
       "      <td>98.67</td>\n",
       "      <td>17.5</td>\n",
       "      <td>Unknown</td>\n",
       "      <td>0</td>\n",
       "    </tr>\n",
       "    <tr>\n",
       "      <th>25783</th>\n",
       "      <td>Female</td>\n",
       "      <td>0.48</td>\n",
       "      <td>0</td>\n",
       "      <td>0</td>\n",
       "      <td>No</td>\n",
       "      <td>children</td>\n",
       "      <td>Rural</td>\n",
       "      <td>94.06</td>\n",
       "      <td>14.8</td>\n",
       "      <td>Unknown</td>\n",
       "      <td>0</td>\n",
       "    </tr>\n",
       "    <tr>\n",
       "      <th>15728</th>\n",
       "      <td>Female</td>\n",
       "      <td>0.40</td>\n",
       "      <td>0</td>\n",
       "      <td>0</td>\n",
       "      <td>No</td>\n",
       "      <td>children</td>\n",
       "      <td>Rural</td>\n",
       "      <td>85.65</td>\n",
       "      <td>17.4</td>\n",
       "      <td>Unknown</td>\n",
       "      <td>0</td>\n",
       "    </tr>\n",
       "    <tr>\n",
       "      <th>13857</th>\n",
       "      <td>Male</td>\n",
       "      <td>0.32</td>\n",
       "      <td>0</td>\n",
       "      <td>0</td>\n",
       "      <td>No</td>\n",
       "      <td>children</td>\n",
       "      <td>Urban</td>\n",
       "      <td>89.04</td>\n",
       "      <td>17.8</td>\n",
       "      <td>Unknown</td>\n",
       "      <td>0</td>\n",
       "    </tr>\n",
       "    <tr>\n",
       "      <th>64974</th>\n",
       "      <td>Male</td>\n",
       "      <td>0.24</td>\n",
       "      <td>0</td>\n",
       "      <td>0</td>\n",
       "      <td>No</td>\n",
       "      <td>children</td>\n",
       "      <td>Urban</td>\n",
       "      <td>58.35</td>\n",
       "      <td>18.6</td>\n",
       "      <td>Unknown</td>\n",
       "      <td>0</td>\n",
       "    </tr>\n",
       "    <tr>\n",
       "      <th>6596</th>\n",
       "      <td>Male</td>\n",
       "      <td>0.56</td>\n",
       "      <td>0</td>\n",
       "      <td>0</td>\n",
       "      <td>No</td>\n",
       "      <td>children</td>\n",
       "      <td>Rural</td>\n",
       "      <td>111.77</td>\n",
       "      <td>21.1</td>\n",
       "      <td>Unknown</td>\n",
       "      <td>0</td>\n",
       "    </tr>\n",
       "    <tr>\n",
       "      <th>51856</th>\n",
       "      <td>Male</td>\n",
       "      <td>38.00</td>\n",
       "      <td>1</td>\n",
       "      <td>0</td>\n",
       "      <td>Yes</td>\n",
       "      <td>Private</td>\n",
       "      <td>Rural</td>\n",
       "      <td>56.90</td>\n",
       "      <td>92.0</td>\n",
       "      <td>never smoked</td>\n",
       "      <td>0</td>\n",
       "    </tr>\n",
       "    <tr>\n",
       "      <th>41097</th>\n",
       "      <td>Female</td>\n",
       "      <td>23.00</td>\n",
       "      <td>1</td>\n",
       "      <td>0</td>\n",
       "      <td>No</td>\n",
       "      <td>Private</td>\n",
       "      <td>Urban</td>\n",
       "      <td>70.03</td>\n",
       "      <td>78.0</td>\n",
       "      <td>smokes</td>\n",
       "      <td>0</td>\n",
       "    </tr>\n",
       "    <tr>\n",
       "      <th>41500</th>\n",
       "      <td>Male</td>\n",
       "      <td>0.16</td>\n",
       "      <td>0</td>\n",
       "      <td>0</td>\n",
       "      <td>No</td>\n",
       "      <td>children</td>\n",
       "      <td>Rural</td>\n",
       "      <td>69.79</td>\n",
       "      <td>13.0</td>\n",
       "      <td>Unknown</td>\n",
       "      <td>0</td>\n",
       "    </tr>\n",
       "    <tr>\n",
       "      <th>69222</th>\n",
       "      <td>Male</td>\n",
       "      <td>0.24</td>\n",
       "      <td>0</td>\n",
       "      <td>0</td>\n",
       "      <td>No</td>\n",
       "      <td>children</td>\n",
       "      <td>Urban</td>\n",
       "      <td>57.09</td>\n",
       "      <td>19.4</td>\n",
       "      <td>Unknown</td>\n",
       "      <td>0</td>\n",
       "    </tr>\n",
       "    <tr>\n",
       "      <th>1953</th>\n",
       "      <td>Female</td>\n",
       "      <td>0.72</td>\n",
       "      <td>0</td>\n",
       "      <td>0</td>\n",
       "      <td>No</td>\n",
       "      <td>children</td>\n",
       "      <td>Rural</td>\n",
       "      <td>112.19</td>\n",
       "      <td>20.1</td>\n",
       "      <td>Unknown</td>\n",
       "      <td>0</td>\n",
       "    </tr>\n",
       "  </tbody>\n",
       "</table>\n",
       "</div>"
      ],
      "text/plain": [
       "       gender    age  hypertension  heart_disease ever_married work_type  \\\n",
       "id                                                                         \n",
       "47350  Female   0.08             0              0           No  children   \n",
       "67099    Male   0.56             0              0           No  children   \n",
       "61511  Female   0.32             0              0           No  children   \n",
       "23360    Male   0.80             0              0           No  children   \n",
       "56714  Female   0.72             0              0           No  children   \n",
       "54747    Male   0.88             0              0           No  children   \n",
       "66772  Female   0.32             0              0           No  children   \n",
       "29487    Male   0.72             0              0           No  children   \n",
       "53126  Female   0.64             0              0           No  children   \n",
       "34261    Male   0.64             0              0           No  children   \n",
       "7559   Female   0.64             0              0           No  children   \n",
       "11371    Male   0.24             0              0           No  children   \n",
       "760      Male   0.80             0              0           No  children   \n",
       "22877    Male   0.16             0              0           No  children   \n",
       "37622  Female   0.32             0              0           No  children   \n",
       "42938    Male   0.64             0              0           No  children   \n",
       "56420    Male  17.00             1              0           No   Private   \n",
       "40255  Female   0.48             0              0           No  children   \n",
       "30084    Male   0.80             0              0           No  children   \n",
       "25783  Female   0.48             0              0           No  children   \n",
       "15728  Female   0.40             0              0           No  children   \n",
       "13857    Male   0.32             0              0           No  children   \n",
       "64974    Male   0.24             0              0           No  children   \n",
       "6596     Male   0.56             0              0           No  children   \n",
       "51856    Male  38.00             1              0          Yes   Private   \n",
       "41097  Female  23.00             1              0           No   Private   \n",
       "41500    Male   0.16             0              0           No  children   \n",
       "69222    Male   0.24             0              0           No  children   \n",
       "1953   Female   0.72             0              0           No  children   \n",
       "\n",
       "      Residence_type  avg_glucose_level   bmi smoking_status  stroke  \n",
       "id                                                                    \n",
       "47350          Urban             139.67  14.1        Unknown       0  \n",
       "67099          Rural              57.02  20.7        Unknown       0  \n",
       "61511          Rural              73.71  16.2        Unknown       0  \n",
       "23360          Rural             114.54  15.1        Unknown       0  \n",
       "56714          Rural              62.13  16.8        Unknown       0  \n",
       "54747          Rural             157.57  19.2        Unknown       0  \n",
       "66772          Rural              55.86  16.0        Unknown       0  \n",
       "29487          Urban              80.08  16.4        Unknown       0  \n",
       "53126          Urban              62.27  17.3        Unknown       0  \n",
       "34261          Rural              86.74  16.2        Unknown       0  \n",
       "7559           Urban              83.82  24.9        Unknown       0  \n",
       "11371          Urban              89.28  14.2        Unknown       0  \n",
       "760            Urban              75.22  33.1        Unknown       0  \n",
       "22877          Urban             114.71  17.4        Unknown       0  \n",
       "37622          Urban             108.63  19.6        Unknown       0  \n",
       "42938          Urban              60.40  17.3        Unknown       0  \n",
       "56420          Rural              61.67  97.6        Unknown       0  \n",
       "40255          Rural             118.75  17.4        Unknown       0  \n",
       "30084          Rural              98.67  17.5        Unknown       0  \n",
       "25783          Rural              94.06  14.8        Unknown       0  \n",
       "15728          Rural              85.65  17.4        Unknown       0  \n",
       "13857          Urban              89.04  17.8        Unknown       0  \n",
       "64974          Urban              58.35  18.6        Unknown       0  \n",
       "6596           Rural             111.77  21.1        Unknown       0  \n",
       "51856          Rural              56.90  92.0   never smoked       0  \n",
       "41097          Urban              70.03  78.0         smokes       0  \n",
       "41500          Rural              69.79  13.0        Unknown       0  \n",
       "69222          Urban              57.09  19.4        Unknown       0  \n",
       "1953           Rural             112.19  20.1        Unknown       0  "
      ]
     },
     "execution_count": 424,
     "metadata": {},
     "output_type": "execute_result"
    }
   ],
   "source": [
    "q25, q75 = train_set['bmi'].quantile(0.25), train_set['bmi'].quantile(0.75)\n",
    "iqr = q75 - q25\n",
    "factor = 4\n",
    "cut_off = iqr * factor\n",
    "bmi_upper = q75 + cut_off\n",
    "print(\"UPPER BOUND FOR BMI IS NOW:\", bmi_upper, \"WITH FACTOR\", factor, \"OF IQR\")\n",
    "\n",
    "age_lower = 1\n",
    "print(\"LOWER BOUND FOR AGE IS NOW:\", age_lower)\n",
    "\n",
    "# identify non-outlier indexes\n",
    "mask_outlier = (train_set[\"bmi\"] > bmi_upper) | (train_set[\"age\"] < age_lower)\n",
    "mask_nonoutlier = mask_outlier == False\n",
    "\n",
    "print(\"> NUMBER OF OUTLIERS DETECTED:\", train_set[mask_outlier].shape[0])\n",
    "print(\"> NUMBER OF REMAINING EXAMPLES:\", train_set[mask_nonoutlier].shape[0])\n",
    "\n",
    "# box and whisker plot\n",
    "train_set[mask_nonoutlier][numerical_ix].plot(kind='box', subplots=True, layout=(1,3), figsize=(18, 5))\n",
    "pyplot.show()\n",
    "\n",
    "print(\"> THESE ARE OUTLIERS:\")\n",
    "train_set[mask_outlier]\n"
   ]
  },
  {
   "cell_type": "markdown",
   "metadata": {
    "pycharm": {
     "name": "#%% md\n"
    }
   },
   "source": [
    "### Option 3: Identify Outliers With Local Outlier Factor"
   ]
  },
  {
   "cell_type": "markdown",
   "metadata": {},
   "source": [
    "Could not implement because categorical datatypes are not numeric."
   ]
  },
  {
   "cell_type": "markdown",
   "metadata": {
    "pycharm": {
     "name": "#%% md\n"
    }
   },
   "source": [
    "## 4. Strategy On Handling Outliers"
   ]
  },
  {
   "cell_type": "markdown",
   "metadata": {},
   "source": [
    "Select one of these following strategies"
   ]
  },
  {
   "cell_type": "markdown",
   "metadata": {
    "pycharm": {
     "name": "#%% md\n"
    }
   },
   "source": [
    "### Option 1: Remove Outliers"
   ]
  },
  {
   "cell_type": "code",
   "execution_count": 425,
   "metadata": {
    "pycharm": {
     "name": "#%%\n"
    }
   },
   "outputs": [],
   "source": [
    "train_set = train_set[mask_nonoutlier].copy()"
   ]
  },
  {
   "cell_type": "markdown",
   "metadata": {
    "pycharm": {
     "name": "#%% md\n"
    }
   },
   "source": [
    "### Option 2: Replace With Missing Values"
   ]
  },
  {
   "cell_type": "markdown",
   "metadata": {},
   "source": [
    "Not implemented yet"
   ]
  },
  {
   "cell_type": "markdown",
   "metadata": {},
   "source": [
    "## 5. Mark Missing Values as NaN"
   ]
  },
  {
   "cell_type": "code",
   "execution_count": 426,
   "metadata": {
    "pycharm": {
     "name": "#%%\n"
    }
   },
   "outputs": [
    {
     "name": "stdout",
     "output_type": "stream",
     "text": [
      "> MARKED MISSING VALUES AS NaN On Both Training And Test Sets\n"
     ]
    }
   ],
   "source": [
    "def mark_missing(df):\n",
    "    df[\"smoking_status\"].replace('Unknown', nan, inplace=True)\n",
    "\n",
    "print(\"> MARKED MISSING VALUES AS NaN On Both Training And Test Sets\")\n",
    "mark_missing(train_set)\n",
    "mark_missing(test_set)"
   ]
  },
  {
   "cell_type": "markdown",
   "metadata": {},
   "source": [
    "## 6. Strategies On Dealing With Missing Values"
   ]
  },
  {
   "cell_type": "code",
   "execution_count": 427,
   "metadata": {},
   "outputs": [],
   "source": [
    "class MissingHandler:\n",
    "    \"\"\"Handle missing values in the DataFrame.\n",
    "    \n",
    "    Methods:\n",
    "        __ini__(method='impute')\n",
    "            method: string 'impute' or 'drop'\n",
    "            \n",
    "        fit(X)\n",
    "            Set up imputation or drop strategy for later use.\n",
    "            \n",
    "            X: Pandas DataFrame\n",
    "            \n",
    "        transform(X, inplace=False)\n",
    "            X: Pandas DataFrame\n",
    "            \n",
    "            inplace: boolean, default=False\n",
    "                if True, do drop NaN inplace.\n",
    "                \n",
    "            return new DataFrame whether inplace=True or not.\n",
    "            \n",
    "        info(X)\n",
    "            X: Pandas DataFrame\n",
    "    \"\"\"\n",
    "    \n",
    "    def __init__(self, method='impute'):\n",
    "        self.method = method\n",
    "        self.imputers = None\n",
    "        self.miss_cols = None\n",
    "        \n",
    "    def fit(self, X):\n",
    "        if self.method == 'impute':\n",
    "            self.miss_cols = []\n",
    "            self.imputers = None\n",
    "\n",
    "            for col in X.columns:\n",
    "                n_miss = X[col].isnull().sum()\n",
    "                if n_miss > 0:\n",
    "                    self.miss_cols.append(col)\n",
    "                \n",
    "            self.imputers = {col: SimpleImputer(strategy=('constant' if col in categorical_ix else 'mean')) for col in self.miss_cols}    \n",
    "            for col in self.miss_cols:\n",
    "                before = X[col].values.reshape(-1, 1)\n",
    "                self.imputers[col].fit(before)\n",
    "                \n",
    "    def transform(self, X, inplace=False):\n",
    "        new = X.copy()\n",
    "        if self.method == 'impute':\n",
    "            for col in self.miss_cols:\n",
    "                before = X[col].values.reshape(-1, 1)\n",
    "                after = self.imputers[col].transform(before)\n",
    "                if inplace:\n",
    "                    X[col] = pd.DataFrame(after, index=X.index, columns=[col])\n",
    "                else:\n",
    "                    new[col] = pd.DataFrame(after, index=X.index, columns=[col])\n",
    "            return new\n",
    "        elif self.method == 'drop':\n",
    "            if inplace:\n",
    "                X.dropna(inplace=True)\n",
    "            else:\n",
    "                return new.dropna()\n",
    "        \n",
    "    def missing_columns(self):\n",
    "        return self.miss_cols[:]\n",
    "    \n",
    "    def info(self, X):\n",
    "        cols = []\n",
    "        for col in X.columns:\n",
    "            n_miss = X[col].isnull().sum()\n",
    "            if n_miss > 0:\n",
    "                cols.append(col)\n",
    "                \n",
    "        print(\"> Total Number Of Missing Values:\", X.isnull().sum().sum())\n",
    "        print(\"  {:<20}{:>10}{:>15}\".format(\"Features\", \"n_miss\", \"Percentage\"))\n",
    "        print(\"------------------------------------------------\")\n",
    "        for col in cols:\n",
    "            n_miss = X[col].isnull().sum()\n",
    "            perc = n_miss/X.shape[0] * 100\n",
    "            print(\"> {:<20}{:>10}{:>15.1f}%\".format(col, n_miss, perc))"
   ]
  },
  {
   "cell_type": "markdown",
   "metadata": {},
   "source": [
    "Select one of these following strategies"
   ]
  },
  {
   "cell_type": "markdown",
   "metadata": {
    "pycharm": {
     "name": "#%% md\n"
    }
   },
   "source": [
    "### Option 1: Remove Rows With Missing Values"
   ]
  },
  {
   "cell_type": "code",
   "execution_count": null,
   "metadata": {
    "scrolled": true
   },
   "outputs": [],
   "source": [
    "m = MissingHandler(method='drop')"
   ]
  },
  {
   "cell_type": "markdown",
   "metadata": {
    "pycharm": {
     "name": "#%% md\n"
    }
   },
   "source": [
    "### Option 2: Impute With `SimpleImputer`"
   ]
  },
  {
   "cell_type": "code",
   "execution_count": 429,
   "metadata": {
    "scrolled": false
   },
   "outputs": [],
   "source": [
    "m = MissingHandler(method='impute')"
   ]
  },
  {
   "cell_type": "markdown",
   "metadata": {},
   "source": [
    "After selecting either Option 1 or Option 2, run the following cell."
   ]
  },
  {
   "cell_type": "code",
   "execution_count": 432,
   "metadata": {},
   "outputs": [
    {
     "name": "stdout",
     "output_type": "stream",
     "text": [
      "> Training set:\n",
      "> Total Number Of Missing Values: 1148\n",
      "  Features                n_miss     Percentage\n",
      "------------------------------------------------\n",
      "> bmi                        138            4.1%\n",
      "> smoking_status            1010           29.8%\n",
      "> Test set:\n",
      "> Total Number Of Missing Values: 570\n",
      "  Features                n_miss     Percentage\n",
      "------------------------------------------------\n",
      "> bmi                         63            3.7%\n",
      "> smoking_status             507           30.1%\n",
      "> After Processing Missing data...\n",
      "> Training set:\n",
      "> Total Number Of Missing Values: 0\n",
      "  Features                n_miss     Percentage\n",
      "------------------------------------------------\n",
      "> Test set:\n",
      "> Total Number Of Missing Values: 0\n",
      "  Features                n_miss     Percentage\n",
      "------------------------------------------------\n"
     ]
    }
   ],
   "source": [
    "print(\"> Training set:\")\n",
    "m.info(train_set)\n",
    "\n",
    "print(\"> Test set:\")\n",
    "m.info(test_set)\n",
    "\n",
    "m.fit(train_set)\n",
    "\n",
    "m.transform(train_set, inplace=True)\n",
    "m.transform(test_set, inplace=True)\n",
    "\n",
    "print(\"> After Processing Missing data...\")\n",
    "\n",
    "print(\"> Training set:\")\n",
    "m.info(train_set)\n",
    "\n",
    "print(\"> Test set:\")\n",
    "m.info(test_set)"
   ]
  },
  {
   "cell_type": "markdown",
   "metadata": {
    "pycharm": {
     "name": "#%% md\n"
    }
   },
   "source": [
    "### Option 3: Impute With KNN Imputation"
   ]
  },
  {
   "cell_type": "markdown",
   "metadata": {},
   "source": [
    "Could not implemented because categorical features are not numeric."
   ]
  },
  {
   "cell_type": "markdown",
   "metadata": {},
   "source": [
    "### Option 4: Impute With Iterative Imputation"
   ]
  },
  {
   "cell_type": "markdown",
   "metadata": {},
   "source": [
    "Could not implemented because categorical features are not numeric."
   ]
  },
  {
   "cell_type": "markdown",
   "metadata": {},
   "source": [
    "# 7. Prepare For Data Transformation"
   ]
  },
  {
   "cell_type": "markdown",
   "metadata": {},
   "source": [
    "Before moving to the next steps of Data Transformation, we split training set and test set into X and y."
   ]
  },
  {
   "cell_type": "code",
   "execution_count": 449,
   "metadata": {},
   "outputs": [],
   "source": [
    "X_train, y_train = train_set[features].copy(), train_set[target].copy()\n",
    "X_test, y_test = test_set[features].copy(), test_set[target].copy()"
   ]
  },
  {
   "cell_type": "markdown",
   "metadata": {},
   "source": [
    "## Distinguish Nominal And Ordinal Data"
   ]
  },
  {
   "cell_type": "markdown",
   "metadata": {},
   "source": [
    "From the name and unique values of each categorial feature listed above, it's intuitive to label all of them as nominal, but we will do some experiments with ordinal treatment later on."
   ]
  },
  {
   "cell_type": "code",
   "execution_count": 435,
   "metadata": {},
   "outputs": [],
   "source": [
    "ordinal_ix = []\n",
    "nominal_ix = categorical_ix[:]"
   ]
  },
  {
   "cell_type": "markdown",
   "metadata": {},
   "source": [
    "# 8. Select Strategy for Data Transformation"
   ]
  },
  {
   "cell_type": "markdown",
   "metadata": {},
   "source": [
    "## 8.1 With Numerical Features"
   ]
  },
  {
   "cell_type": "markdown",
   "metadata": {},
   "source": [
    "* Option 1: Normalization\n",
    "* Option 2: Standardization\n",
    "* Option 3: Change distribution to normal or near-normal\n",
    "* Option 4: Discretize to Categorical Data\n",
    "> As far as we know, *age* and *bmi* can be separated into 4 groups each:\n",
    ">* *age*:\n",
    ">>* Under 14: Children\n",
    ">>* 15-24: Youth\n",
    ">>* 25-64: Adults\n",
    ">>* 65 and over: Senior\n",
    ">* *bmi*:\n",
    ">>* Below 18.5: Underweight\n",
    ">>* 18.5 – 24.9:\tNorma\n",
    ">>* 25.0 – 29.9:\tOverweight\n",
    ">>* 30.0 and Above: Obese\n",
    ">\n",
    "> In addition, blood sugar levels can also be splitted into 4 group, though normal sugar level depends on each specific age group:\n",
    ">>* Fasting\n",
    ">>* Before meal\n",
    ">>* 1-2 hours after eating\n",
    ">?* Bedtime "
   ]
  },
  {
   "cell_type": "markdown",
   "metadata": {},
   "source": [
    "## 8.2 Encode Categorial Features"
   ]
  },
  {
   "cell_type": "markdown",
   "metadata": {},
   "source": [
    "* Option 1: Convert to ordinal data\n",
    "* Option 2: Convert to nominal data"
   ]
  },
  {
   "cell_type": "markdown",
   "metadata": {},
   "source": [
    "Now, select one of the following strategies below."
   ]
  },
  {
   "cell_type": "code",
   "execution_count": 296,
   "metadata": {},
   "outputs": [],
   "source": [
    "print(\"> NUMERICAL FEATURES ARE NORMALIZED TO THE RANGE (0, 1)\")\n",
    "print(\"> CATEGORIAL FEATURES ARE ENCODED TO ORDINAL DATA\")\n",
    "ct = ColumnTransformer([('scale', MinMaxScaler(), numerical_ix),\n",
    "                        ('encode', OrdinalEncoder(), categorical_ix)],\n",
    "                        remainder='passthrough')\n",
    "ct.fit(X_train)"
   ]
  },
  {
   "cell_type": "code",
   "execution_count": 265,
   "metadata": {},
   "outputs": [],
   "source": [
    "print(\"> NUMERICAL FEATURES ARE NORMALIZED TO THE RANGE (0, 1)\")\n",
    "print(\"> CATEGORIAL FEATURES ARE ENCODED TO NOMINAL DATA\")\n",
    "ct = ColumnTransformer([('scale', MinMaxScaler(), numerical_ix),\n",
    "                        ('encode', OneHotEncoder(handle_unknown='ignore'), categorical_ix)],\n",
    "                        remainder='passthrough')\n",
    "ct.fit(X_train)"
   ]
  },
  {
   "cell_type": "code",
   "execution_count": 304,
   "metadata": {},
   "outputs": [],
   "source": [
    "print(\"> NUMERICAL FEATURES ARE STANDARDIZED TO CENTER AT 0 WITH STD = 1\")\n",
    "print(\"> CATEGORIAL FEATURES ARE ENCODED TO ORDINAL DATA\")\n",
    "ct = ColumnTransformer([('scale', StandardScaler(), numerical_ix),\n",
    "                        ('encode', OrdinalEncoder(), categorical_ix)],\n",
    "                        remainder='passthrough')\n",
    "ct.fit(X_train)"
   ]
  },
  {
   "cell_type": "code",
   "execution_count": null,
   "metadata": {},
   "outputs": [],
   "source": [
    "print(\"> NUMERICAL FEATURES ARE STANDARDIZED TO CENTER AT 0 WITH STD = 1\")\n",
    "print(\"> CATEGORIAL FEATURES ARE ENCODED TO NOMINAL DATA\")\n",
    "ct = ColumnTransformer([('scale', StandardScaler(), numerical_ix),\n",
    "                        ('encode', OneHotEncoder(handle_unknown='ignore'), categorical_ix)],\n",
    "                        remainder='passthrough')\n",
    "ct.fit(X_train)"
   ]
  },
  {
   "cell_type": "code",
   "execution_count": 322,
   "metadata": {},
   "outputs": [],
   "source": [
    "print(\"> NUMERICAL FEATURES ARE CHANGED TO NORMAL DISTRIBUTION\")\n",
    "print(\"> CATEGORIAL FEATURES ARE ENCODED TO ORDINAL DATA\")\n",
    "ct = ColumnTransformer([('power', QuantileTransformer(output_distribution='normal'), numerical_ix),\n",
    "                        ('encode', OrdinalEncoder(), categorical_ix)],\n",
    "                        remainder='passthrough')\n",
    "ct.fit(X_train)"
   ]
  },
  {
   "cell_type": "code",
   "execution_count": 450,
   "metadata": {},
   "outputs": [
    {
     "name": "stdout",
     "output_type": "stream",
     "text": [
      "> NUMERICAL FEATURES ARE CHANGED TO NORMAL DISTRIBUTION\n",
      "> CATEGORIAL FEATURES ARE ENCODED TO NOMINAL DATA\n"
     ]
    },
    {
     "data": {
      "text/plain": [
       "ColumnTransformer(remainder='passthrough',\n",
       "                  transformers=[('power',\n",
       "                                 QuantileTransformer(output_distribution='normal'),\n",
       "                                 ['age', 'avg_glucose_level', 'bmi']),\n",
       "                                ('encode',\n",
       "                                 OneHotEncoder(handle_unknown='ignore'),\n",
       "                                 ['gender', 'hypertension', 'heart_disease',\n",
       "                                  'ever_married', 'work_type', 'Residence_type',\n",
       "                                  'smoking_status'])])"
      ]
     },
     "execution_count": 450,
     "metadata": {},
     "output_type": "execute_result"
    }
   ],
   "source": [
    "print(\"> NUMERICAL FEATURES ARE CHANGED TO NORMAL DISTRIBUTION\")\n",
    "print(\"> CATEGORIAL FEATURES ARE ENCODED TO NOMINAL DATA\")\n",
    "ct = ColumnTransformer([('power', QuantileTransformer(output_distribution='normal'), numerical_ix),\n",
    "                        ('encode', OneHotEncoder(handle_unknown='ignore'), categorical_ix)],\n",
    "                        remainder='passthrough')\n",
    "ct.fit(X_train)"
   ]
  },
  {
   "cell_type": "code",
   "execution_count": 296,
   "metadata": {},
   "outputs": [],
   "source": [
    "print(\"> NUMERICAL FEATURES ARE DISCRETIZED TO NORMAL DISTRIBUTION\")\n",
    "print(\"> CATEGORIAL FEATURES ARE ENCODED TO ORDINAL DATA\")\n",
    "ct = ColumnTransformer([('discr', KBinsDiscretizer(n_bins=4, encode='ordinal', strategy='kmeans'), numerical_ix),\n",
    "                        ('encode', OrdinalEncoder(), categorical_ix)],\n",
    "                        remainder='passthrough')\n",
    "ct.fit(X_train)"
   ]
  },
  {
   "cell_type": "code",
   "execution_count": 329,
   "metadata": {},
   "outputs": [],
   "source": [
    "print(\"> NUMERICAL FEATURES ARE DISCRETIZED TO NORMAL DISTRIBUTION\")\n",
    "print(\"> CATEGORIAL FEATURES ARE ENCODED TO NOMINAL DATA\")\n",
    "ct = ColumnTransformer([('discr', KBinsDiscretizer(n_bins=4, encode='ordinal', strategy='kmeans'), numerical_ix),\n",
    "                        ('encode', OneHotEncoder(handle_unknown='ignore'), categorical_ix)],\n",
    "                        remainder='passthrough')\n",
    "ct.fit(X_train)"
   ]
  },
  {
   "cell_type": "markdown",
   "metadata": {},
   "source": [
    "## 8.3 Setup Encoder For Target Variable"
   ]
  },
  {
   "cell_type": "code",
   "execution_count": 437,
   "metadata": {},
   "outputs": [
    {
     "data": {
      "text/plain": [
       "LabelEncoder()"
      ]
     },
     "execution_count": 437,
     "metadata": {},
     "output_type": "execute_result"
    }
   ],
   "source": [
    "label_encoder = LabelEncoder()\n",
    "label_encoder.fit(y_train)"
   ]
  },
  {
   "cell_type": "markdown",
   "metadata": {},
   "source": [
    "# 9. Perform Data Transformation"
   ]
  },
  {
   "cell_type": "code",
   "execution_count": 451,
   "metadata": {
    "scrolled": true
   },
   "outputs": [
    {
     "name": "stdout",
     "output_type": "stream",
     "text": [
      "> Histogram of age\n"
     ]
    },
    {
     "data": {
      "image/png": "[encoded data removed]",
      "text/plain": [
       "<Figure size 432x288 with 1 Axes>"
      ]
     },
     "metadata": {
      "needs_background": "light"
     },
     "output_type": "display_data"
    },
    {
     "name": "stdout",
     "output_type": "stream",
     "text": [
      "> Histogram of avg_glucose_level\n"
     ]
    },
    {
     "data": {
      "image/png": "[encoded data removed]",
      "text/plain": [
       "<Figure size 432x288 with 1 Axes>"
      ]
     },
     "metadata": {
      "needs_background": "light"
     },
     "output_type": "display_data"
    },
    {
     "name": "stdout",
     "output_type": "stream",
     "text": [
      "> Histogram of bmi\n"
     ]
    },
    {
     "data": {
      "image/png": "[encoded data removed]",
      "text/plain": [
       "<Figure size 432x288 with 1 Axes>"
      ]
     },
     "metadata": {
      "needs_background": "light"
     },
     "output_type": "display_data"
    }
   ],
   "source": [
    "X_train = ct.transform(X_train)\n",
    "y_train = label_encoder.transform(y_train)\n",
    "\n",
    "X_test = ct.transform(X_test)\n",
    "y_test = label_encoder.transform(y_test)\n",
    "\n",
    "\n",
    "\n",
    "for col in range(len(numerical_ix)):\n",
    "    print(\"> Histogram of\", numerical_ix[col])\n",
    "    pyplot.hist(X_train[:, col], bins=20)\n",
    "    pyplot.show()"
   ]
  },
  {
   "cell_type": "markdown",
   "metadata": {},
   "source": [
    "# 10. Write Prepared Data Onto Files"
   ]
  },
  {
   "cell_type": "code",
   "execution_count": 454,
   "metadata": {},
   "outputs": [],
   "source": [
    "train = np.hstack((X_train, y_train.reshape(-1, 1)))\n",
    "np.savetxt(\"prepared_training_set.csv\", train, delimiter=',')\n",
    "\n",
    "test = np.hstack((X_test, y_test.reshape(-1, 1)))\n",
    "np.savetxt(\"prepared_test_set.csv\", test, delimiter=',')"
   ]
  }
 ],
 "metadata": {
  "kernelspec": {
   "display_name": "Python 3",
   "language": "python",
   "name": "python3"
  },
  "language_info": {
   "codemirror_mode": {
    "name": "ipython",
    "version": 3
   },
   "file_extension": ".py",
   "mimetype": "text/x-python",
   "name": "python",
   "nbconvert_exporter": "python",
   "pygments_lexer": "ipython3",
   "version": "3.8.5"
  }
 },
 "nbformat": 4,
 "nbformat_minor": 1
}